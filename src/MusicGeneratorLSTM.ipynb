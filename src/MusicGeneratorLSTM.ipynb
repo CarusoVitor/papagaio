{
 "cells": [
  {
   "cell_type": "markdown",
   "metadata": {
    "id": "9wkARadSlGB2"
   },
   "source": [
    "# Music Generator with LSTM"
   ]
  },
  {
   "cell_type": "markdown",
   "metadata": {
    "id": "e5hn1sHZlMEK"
   },
   "source": [
    "## About"
   ]
  },
  {
   "cell_type": "markdown",
   "metadata": {
    "id": "SmmZd52Ullwl"
   },
   "source": [
    "Music resamples language as a temporal sequence of articulated sounds. They say something, often something human.\n",
    "\n",
    "Although, there are crucial differences between language and music. We can still describe it as a sequence of symbols in the simplest form of understanding. Translating something complex into something simpler, but usable by computational models.\n",
    "\n",
    "Thus, the objective of this project is to establish a communication between the human, that understands music in the most intense way that the brain can interpret through information, and the machine.\n",
    "\n",
    "We'll create a model that can generate music based on the input information, i.e., generate a sequence of sounds which are related in some way with the sounds passed as input.\n",
    "\n",
    "We'll use Natural Language Processing (NLP) methods, observing the music as it were a language, abstracting it. Doing this, the machine can recognize and process similar data.\n",
    "\n",
    "On the first step, we'll use text generation techniques, using Recurrent Neural Networks (RNNs) and Long-Short Term Memories (LSTMs). With the effectiveness of the training, even if it's reasonable, we'll perform the same implementation using specific methods such as Attention.\n",
    "\n"
   ]
  },
  {
   "cell_type": "markdown",
   "metadata": {
    "id": "Mi_qPalLptT_"
   },
   "source": [
    "## Imports"
   ]
  },
  {
   "cell_type": "code",
   "execution_count": 35,
   "metadata": {
    "id": "COTQXLo7W4yj"
   },
   "outputs": [],
   "source": [
    "# Basic libraries\n",
    "import random\n",
    "import numpy as np\n",
    "import pandas as pd\n",
    "import matplotlib.pyplot as plt\n",
    "import torch.nn.functional as F\n",
    "\n",
    "# Preprocessing data libraries\n",
    "from torch.utils.data import Dataset\n",
    "from torch.utils.data import DataLoader\n",
    "from torch.utils.data import TensorDataset\n",
    "\n",
    "# Model libraries\n",
    "import torch\n",
    "import torch.nn as nn\n",
    "import torch.optim as optim\n",
    "\n",
    "# Data visualization\n",
    "from torch.utils.tensorboard import SummaryWriter\n",
    "from tqdm.notebook import tqdm #for loading bars\n",
    "\n",
    "# Utils\n",
    "import music21\n",
    "import pickle"
   ]
  },
  {
   "cell_type": "code",
   "execution_count": 36,
   "metadata": {
    "id": "z66wYkcg42SL"
   },
   "outputs": [],
   "source": [
    "device = torch.device(\"cuda:0\") if torch.cuda.is_available() else torch.device(\"cpu\")"
   ]
  },
  {
   "cell_type": "code",
   "execution_count": 37,
   "metadata": {
    "id": "HXlV5taYsaWQ"
   },
   "outputs": [],
   "source": [
    "from encoder import *\n",
    "from decoder import *"
   ]
  },
  {
   "cell_type": "markdown",
   "metadata": {
    "id": "RKgKH6V3pU6J"
   },
   "source": [
    "## Dataset"
   ]
  },
  {
   "cell_type": "markdown",
   "metadata": {
    "id": "5xwZHHmu2qRQ"
   },
   "source": [
    "### Load data"
   ]
  },
  {
   "cell_type": "code",
   "execution_count": 38,
   "metadata": {
    "id": "KCNs5LY58SCU"
   },
   "outputs": [],
   "source": [
    "data_path = '../data/'\n",
    "out_encoded_path = '../encoded/'\n",
    "out_decoded_path = '../decoded/'\n",
    "file = 'C major scale'\n",
    "in_file = data_path + file\n",
    "out_encoded = out_encoded_path + file\n",
    "out_decoded = out_decoded_path + file\n",
    "\n",
    "N_FRAMES = 36\n",
    "N_NOTES = 88\n",
    "MIDI_OFFSET = 20"
   ]
  },
  {
   "cell_type": "code",
   "execution_count": 39,
   "metadata": {
    "id": "M58DhY3D9H5w"
   },
   "outputs": [],
   "source": [
    "# be sure that the dirs exist\n",
    "if not os.path.isdir(data_path):\n",
    "    os.mkdir(data_path)\n",
    "if not os.path.isdir(out_decoded_path):\n",
    "    os.mkdir(out_decoded_path)\n",
    "if not os.path.isdir(out_encoded_path):\n",
    "    os.mkdir(out_encoded_path)"
   ]
  },
  {
   "cell_type": "code",
   "execution_count": 40,
   "metadata": {
    "colab": {
     "base_uri": "https://localhost:8080/",
     "height": 442
    },
    "id": "fWU3o17y9YsY",
    "outputId": "79f0b782-696c-4224-ff1d-da6758c65739",
    "scrolled": true
   },
   "outputs": [
    {
     "name": "stdout",
     "output_type": "stream",
     "text": [
      "Encoding file C_major_scale\n",
      "Encoding Piano\n",
      "Took 0.31443309783935547\n"
     ]
    }
   ],
   "source": [
    "# get encoded data and save encoded file\n",
    "encoded_song = encode_data(in_file,\n",
    "                           N_FRAMES,\n",
    "                           N_NOTES,\n",
    "                           MIDI_OFFSET, \n",
    "                           save_as=out_encoded\n",
    "                           )"
   ]
  },
  {
   "cell_type": "markdown",
   "metadata": {},
   "source": [
    "### Data visualization"
   ]
  },
  {
   "cell_type": "markdown",
   "metadata": {},
   "source": [
    "Each song is represented by a Pandas DataFrame where each column represents some song status. "
   ]
  },
  {
   "cell_type": "code",
   "execution_count": 41,
   "metadata": {
    "scrolled": true
   },
   "outputs": [
    {
     "data": {
      "text/plain": "      inst_code ks    bpm   ts    G#0     A0    B-0     B0     C1    C#1  ...  \\\ninst                                                                      ...   \nPiano         0  C  120.0  4/4  False  False  False  False  False  False  ...   \nPiano         0  C  120.0  4/4  False  False  False  False  False  False  ...   \nPiano         0  C  120.0  4/4  False  False  False  False  False  False  ...   \nPiano         0  C  120.0  4/4  False  False  False  False  False  False  ...   \nPiano         0  C  120.0  4/4  False  False  False  False  False  False  ...   \n...         ... ..    ...  ...    ...    ...    ...    ...    ...    ...  ...   \nPiano         0  C  120.0  4/4  False  False  False  False  False  False  ...   \nPiano         0  C  120.0  4/4  False  False  False  False  False  False  ...   \nPiano         0  C  120.0  4/4  False  False  False  False  False  False  ...   \nPiano         0  C  120.0  4/4  False  False  False  False  False  False  ...   \nPiano         0  C  120.0  4/4  False  False  False  False  False  False  ...   \n\n          D7    E-7     E7     F7    F#7     G7    G#7     A7    B-7     B7  \ninst                                                                         \nPiano  False  False  False  False  False  False  False  False  False  False  \nPiano  False  False  False  False  False  False  False  False  False  False  \nPiano  False  False  False  False  False  False  False  False  False  False  \nPiano  False  False  False  False  False  False  False  False  False  False  \nPiano  False  False  False  False  False  False  False  False  False  False  \n...      ...    ...    ...    ...    ...    ...    ...    ...    ...    ...  \nPiano  False  False  False  False  False  False  False  False  False  False  \nPiano  False  False  False  False  False  False  False  False  False  False  \nPiano  False  False  False  False  False  False  False  False  False  False  \nPiano  False  False  False  False  False  False  False  False  False  False  \nPiano  False  False  False  False  False  False  False  False  False  False  \n\n[288 rows x 92 columns]",
      "text/html": "<div>\n<style scoped>\n    .dataframe tbody tr th:only-of-type {\n        vertical-align: middle;\n    }\n\n    .dataframe tbody tr th {\n        vertical-align: top;\n    }\n\n    .dataframe thead th {\n        text-align: right;\n    }\n</style>\n<table border=\"1\" class=\"dataframe\">\n  <thead>\n    <tr style=\"text-align: right;\">\n      <th></th>\n      <th>inst_code</th>\n      <th>ks</th>\n      <th>bpm</th>\n      <th>ts</th>\n      <th>G#0</th>\n      <th>A0</th>\n      <th>B-0</th>\n      <th>B0</th>\n      <th>C1</th>\n      <th>C#1</th>\n      <th>...</th>\n      <th>D7</th>\n      <th>E-7</th>\n      <th>E7</th>\n      <th>F7</th>\n      <th>F#7</th>\n      <th>G7</th>\n      <th>G#7</th>\n      <th>A7</th>\n      <th>B-7</th>\n      <th>B7</th>\n    </tr>\n    <tr>\n      <th>inst</th>\n      <th></th>\n      <th></th>\n      <th></th>\n      <th></th>\n      <th></th>\n      <th></th>\n      <th></th>\n      <th></th>\n      <th></th>\n      <th></th>\n      <th></th>\n      <th></th>\n      <th></th>\n      <th></th>\n      <th></th>\n      <th></th>\n      <th></th>\n      <th></th>\n      <th></th>\n      <th></th>\n      <th></th>\n    </tr>\n  </thead>\n  <tbody>\n    <tr>\n      <th>Piano</th>\n      <td>0</td>\n      <td>C</td>\n      <td>120.0</td>\n      <td>4/4</td>\n      <td>False</td>\n      <td>False</td>\n      <td>False</td>\n      <td>False</td>\n      <td>False</td>\n      <td>False</td>\n      <td>...</td>\n      <td>False</td>\n      <td>False</td>\n      <td>False</td>\n      <td>False</td>\n      <td>False</td>\n      <td>False</td>\n      <td>False</td>\n      <td>False</td>\n      <td>False</td>\n      <td>False</td>\n    </tr>\n    <tr>\n      <th>Piano</th>\n      <td>0</td>\n      <td>C</td>\n      <td>120.0</td>\n      <td>4/4</td>\n      <td>False</td>\n      <td>False</td>\n      <td>False</td>\n      <td>False</td>\n      <td>False</td>\n      <td>False</td>\n      <td>...</td>\n      <td>False</td>\n      <td>False</td>\n      <td>False</td>\n      <td>False</td>\n      <td>False</td>\n      <td>False</td>\n      <td>False</td>\n      <td>False</td>\n      <td>False</td>\n      <td>False</td>\n    </tr>\n    <tr>\n      <th>Piano</th>\n      <td>0</td>\n      <td>C</td>\n      <td>120.0</td>\n      <td>4/4</td>\n      <td>False</td>\n      <td>False</td>\n      <td>False</td>\n      <td>False</td>\n      <td>False</td>\n      <td>False</td>\n      <td>...</td>\n      <td>False</td>\n      <td>False</td>\n      <td>False</td>\n      <td>False</td>\n      <td>False</td>\n      <td>False</td>\n      <td>False</td>\n      <td>False</td>\n      <td>False</td>\n      <td>False</td>\n    </tr>\n    <tr>\n      <th>Piano</th>\n      <td>0</td>\n      <td>C</td>\n      <td>120.0</td>\n      <td>4/4</td>\n      <td>False</td>\n      <td>False</td>\n      <td>False</td>\n      <td>False</td>\n      <td>False</td>\n      <td>False</td>\n      <td>...</td>\n      <td>False</td>\n      <td>False</td>\n      <td>False</td>\n      <td>False</td>\n      <td>False</td>\n      <td>False</td>\n      <td>False</td>\n      <td>False</td>\n      <td>False</td>\n      <td>False</td>\n    </tr>\n    <tr>\n      <th>Piano</th>\n      <td>0</td>\n      <td>C</td>\n      <td>120.0</td>\n      <td>4/4</td>\n      <td>False</td>\n      <td>False</td>\n      <td>False</td>\n      <td>False</td>\n      <td>False</td>\n      <td>False</td>\n      <td>...</td>\n      <td>False</td>\n      <td>False</td>\n      <td>False</td>\n      <td>False</td>\n      <td>False</td>\n      <td>False</td>\n      <td>False</td>\n      <td>False</td>\n      <td>False</td>\n      <td>False</td>\n    </tr>\n    <tr>\n      <th>...</th>\n      <td>...</td>\n      <td>...</td>\n      <td>...</td>\n      <td>...</td>\n      <td>...</td>\n      <td>...</td>\n      <td>...</td>\n      <td>...</td>\n      <td>...</td>\n      <td>...</td>\n      <td>...</td>\n      <td>...</td>\n      <td>...</td>\n      <td>...</td>\n      <td>...</td>\n      <td>...</td>\n      <td>...</td>\n      <td>...</td>\n      <td>...</td>\n      <td>...</td>\n      <td>...</td>\n    </tr>\n    <tr>\n      <th>Piano</th>\n      <td>0</td>\n      <td>C</td>\n      <td>120.0</td>\n      <td>4/4</td>\n      <td>False</td>\n      <td>False</td>\n      <td>False</td>\n      <td>False</td>\n      <td>False</td>\n      <td>False</td>\n      <td>...</td>\n      <td>False</td>\n      <td>False</td>\n      <td>False</td>\n      <td>False</td>\n      <td>False</td>\n      <td>False</td>\n      <td>False</td>\n      <td>False</td>\n      <td>False</td>\n      <td>False</td>\n    </tr>\n    <tr>\n      <th>Piano</th>\n      <td>0</td>\n      <td>C</td>\n      <td>120.0</td>\n      <td>4/4</td>\n      <td>False</td>\n      <td>False</td>\n      <td>False</td>\n      <td>False</td>\n      <td>False</td>\n      <td>False</td>\n      <td>...</td>\n      <td>False</td>\n      <td>False</td>\n      <td>False</td>\n      <td>False</td>\n      <td>False</td>\n      <td>False</td>\n      <td>False</td>\n      <td>False</td>\n      <td>False</td>\n      <td>False</td>\n    </tr>\n    <tr>\n      <th>Piano</th>\n      <td>0</td>\n      <td>C</td>\n      <td>120.0</td>\n      <td>4/4</td>\n      <td>False</td>\n      <td>False</td>\n      <td>False</td>\n      <td>False</td>\n      <td>False</td>\n      <td>False</td>\n      <td>...</td>\n      <td>False</td>\n      <td>False</td>\n      <td>False</td>\n      <td>False</td>\n      <td>False</td>\n      <td>False</td>\n      <td>False</td>\n      <td>False</td>\n      <td>False</td>\n      <td>False</td>\n    </tr>\n    <tr>\n      <th>Piano</th>\n      <td>0</td>\n      <td>C</td>\n      <td>120.0</td>\n      <td>4/4</td>\n      <td>False</td>\n      <td>False</td>\n      <td>False</td>\n      <td>False</td>\n      <td>False</td>\n      <td>False</td>\n      <td>...</td>\n      <td>False</td>\n      <td>False</td>\n      <td>False</td>\n      <td>False</td>\n      <td>False</td>\n      <td>False</td>\n      <td>False</td>\n      <td>False</td>\n      <td>False</td>\n      <td>False</td>\n    </tr>\n    <tr>\n      <th>Piano</th>\n      <td>0</td>\n      <td>C</td>\n      <td>120.0</td>\n      <td>4/4</td>\n      <td>False</td>\n      <td>False</td>\n      <td>False</td>\n      <td>False</td>\n      <td>False</td>\n      <td>False</td>\n      <td>...</td>\n      <td>False</td>\n      <td>False</td>\n      <td>False</td>\n      <td>False</td>\n      <td>False</td>\n      <td>False</td>\n      <td>False</td>\n      <td>False</td>\n      <td>False</td>\n      <td>False</td>\n    </tr>\n  </tbody>\n</table>\n<p>288 rows × 92 columns</p>\n</div>"
     },
     "execution_count": 41,
     "metadata": {},
     "output_type": "execute_result"
    }
   ],
   "source": [
    "encoded_song"
   ]
  },
  {
   "cell_type": "code",
   "execution_count": 42,
   "metadata": {
    "scrolled": false
   },
   "outputs": [
    {
     "name": "stdout",
     "output_type": "stream",
     "text": [
      "Number of frames: 288\n",
      "Number of bars: 8\n"
     ]
    },
    {
     "data": {
      "text/plain": "      inst_code ks    bpm   ts    G#0     A0    B-0     B0     C1    C#1  ...  \\\ninst                                                                      ...   \nPiano         0  C  120.0  4/4  False  False  False  False  False  False  ...   \nPiano         0  C  120.0  4/4  False  False  False  False  False  False  ...   \nPiano         0  C  120.0  4/4  False  False  False  False  False  False  ...   \nPiano         0  C  120.0  4/4  False  False  False  False  False  False  ...   \nPiano         0  C  120.0  4/4  False  False  False  False  False  False  ...   \n...         ... ..    ...  ...    ...    ...    ...    ...    ...    ...  ...   \nPiano         0  C  120.0  4/4  False  False  False  False  False  False  ...   \nPiano         0  C  120.0  4/4  False  False  False  False  False  False  ...   \nPiano         0  C  120.0  4/4  False  False  False  False  False  False  ...   \nPiano         0  C  120.0  4/4  False  False  False  False  False  False  ...   \nPiano         0  C  120.0  4/4  False  False  False  False  False  False  ...   \n\n          D7    E-7     E7     F7    F#7     G7    G#7     A7    B-7     B7  \ninst                                                                         \nPiano  False  False  False  False  False  False  False  False  False  False  \nPiano  False  False  False  False  False  False  False  False  False  False  \nPiano  False  False  False  False  False  False  False  False  False  False  \nPiano  False  False  False  False  False  False  False  False  False  False  \nPiano  False  False  False  False  False  False  False  False  False  False  \n...      ...    ...    ...    ...    ...    ...    ...    ...    ...    ...  \nPiano  False  False  False  False  False  False  False  False  False  False  \nPiano  False  False  False  False  False  False  False  False  False  False  \nPiano  False  False  False  False  False  False  False  False  False  False  \nPiano  False  False  False  False  False  False  False  False  False  False  \nPiano  False  False  False  False  False  False  False  False  False  False  \n\n[288 rows x 92 columns]",
      "text/html": "<div>\n<style scoped>\n    .dataframe tbody tr th:only-of-type {\n        vertical-align: middle;\n    }\n\n    .dataframe tbody tr th {\n        vertical-align: top;\n    }\n\n    .dataframe thead th {\n        text-align: right;\n    }\n</style>\n<table border=\"1\" class=\"dataframe\">\n  <thead>\n    <tr style=\"text-align: right;\">\n      <th></th>\n      <th>inst_code</th>\n      <th>ks</th>\n      <th>bpm</th>\n      <th>ts</th>\n      <th>G#0</th>\n      <th>A0</th>\n      <th>B-0</th>\n      <th>B0</th>\n      <th>C1</th>\n      <th>C#1</th>\n      <th>...</th>\n      <th>D7</th>\n      <th>E-7</th>\n      <th>E7</th>\n      <th>F7</th>\n      <th>F#7</th>\n      <th>G7</th>\n      <th>G#7</th>\n      <th>A7</th>\n      <th>B-7</th>\n      <th>B7</th>\n    </tr>\n    <tr>\n      <th>inst</th>\n      <th></th>\n      <th></th>\n      <th></th>\n      <th></th>\n      <th></th>\n      <th></th>\n      <th></th>\n      <th></th>\n      <th></th>\n      <th></th>\n      <th></th>\n      <th></th>\n      <th></th>\n      <th></th>\n      <th></th>\n      <th></th>\n      <th></th>\n      <th></th>\n      <th></th>\n      <th></th>\n      <th></th>\n    </tr>\n  </thead>\n  <tbody>\n    <tr>\n      <th>Piano</th>\n      <td>0</td>\n      <td>C</td>\n      <td>120.0</td>\n      <td>4/4</td>\n      <td>False</td>\n      <td>False</td>\n      <td>False</td>\n      <td>False</td>\n      <td>False</td>\n      <td>False</td>\n      <td>...</td>\n      <td>False</td>\n      <td>False</td>\n      <td>False</td>\n      <td>False</td>\n      <td>False</td>\n      <td>False</td>\n      <td>False</td>\n      <td>False</td>\n      <td>False</td>\n      <td>False</td>\n    </tr>\n    <tr>\n      <th>Piano</th>\n      <td>0</td>\n      <td>C</td>\n      <td>120.0</td>\n      <td>4/4</td>\n      <td>False</td>\n      <td>False</td>\n      <td>False</td>\n      <td>False</td>\n      <td>False</td>\n      <td>False</td>\n      <td>...</td>\n      <td>False</td>\n      <td>False</td>\n      <td>False</td>\n      <td>False</td>\n      <td>False</td>\n      <td>False</td>\n      <td>False</td>\n      <td>False</td>\n      <td>False</td>\n      <td>False</td>\n    </tr>\n    <tr>\n      <th>Piano</th>\n      <td>0</td>\n      <td>C</td>\n      <td>120.0</td>\n      <td>4/4</td>\n      <td>False</td>\n      <td>False</td>\n      <td>False</td>\n      <td>False</td>\n      <td>False</td>\n      <td>False</td>\n      <td>...</td>\n      <td>False</td>\n      <td>False</td>\n      <td>False</td>\n      <td>False</td>\n      <td>False</td>\n      <td>False</td>\n      <td>False</td>\n      <td>False</td>\n      <td>False</td>\n      <td>False</td>\n    </tr>\n    <tr>\n      <th>Piano</th>\n      <td>0</td>\n      <td>C</td>\n      <td>120.0</td>\n      <td>4/4</td>\n      <td>False</td>\n      <td>False</td>\n      <td>False</td>\n      <td>False</td>\n      <td>False</td>\n      <td>False</td>\n      <td>...</td>\n      <td>False</td>\n      <td>False</td>\n      <td>False</td>\n      <td>False</td>\n      <td>False</td>\n      <td>False</td>\n      <td>False</td>\n      <td>False</td>\n      <td>False</td>\n      <td>False</td>\n    </tr>\n    <tr>\n      <th>Piano</th>\n      <td>0</td>\n      <td>C</td>\n      <td>120.0</td>\n      <td>4/4</td>\n      <td>False</td>\n      <td>False</td>\n      <td>False</td>\n      <td>False</td>\n      <td>False</td>\n      <td>False</td>\n      <td>...</td>\n      <td>False</td>\n      <td>False</td>\n      <td>False</td>\n      <td>False</td>\n      <td>False</td>\n      <td>False</td>\n      <td>False</td>\n      <td>False</td>\n      <td>False</td>\n      <td>False</td>\n    </tr>\n    <tr>\n      <th>...</th>\n      <td>...</td>\n      <td>...</td>\n      <td>...</td>\n      <td>...</td>\n      <td>...</td>\n      <td>...</td>\n      <td>...</td>\n      <td>...</td>\n      <td>...</td>\n      <td>...</td>\n      <td>...</td>\n      <td>...</td>\n      <td>...</td>\n      <td>...</td>\n      <td>...</td>\n      <td>...</td>\n      <td>...</td>\n      <td>...</td>\n      <td>...</td>\n      <td>...</td>\n      <td>...</td>\n    </tr>\n    <tr>\n      <th>Piano</th>\n      <td>0</td>\n      <td>C</td>\n      <td>120.0</td>\n      <td>4/4</td>\n      <td>False</td>\n      <td>False</td>\n      <td>False</td>\n      <td>False</td>\n      <td>False</td>\n      <td>False</td>\n      <td>...</td>\n      <td>False</td>\n      <td>False</td>\n      <td>False</td>\n      <td>False</td>\n      <td>False</td>\n      <td>False</td>\n      <td>False</td>\n      <td>False</td>\n      <td>False</td>\n      <td>False</td>\n    </tr>\n    <tr>\n      <th>Piano</th>\n      <td>0</td>\n      <td>C</td>\n      <td>120.0</td>\n      <td>4/4</td>\n      <td>False</td>\n      <td>False</td>\n      <td>False</td>\n      <td>False</td>\n      <td>False</td>\n      <td>False</td>\n      <td>...</td>\n      <td>False</td>\n      <td>False</td>\n      <td>False</td>\n      <td>False</td>\n      <td>False</td>\n      <td>False</td>\n      <td>False</td>\n      <td>False</td>\n      <td>False</td>\n      <td>False</td>\n    </tr>\n    <tr>\n      <th>Piano</th>\n      <td>0</td>\n      <td>C</td>\n      <td>120.0</td>\n      <td>4/4</td>\n      <td>False</td>\n      <td>False</td>\n      <td>False</td>\n      <td>False</td>\n      <td>False</td>\n      <td>False</td>\n      <td>...</td>\n      <td>False</td>\n      <td>False</td>\n      <td>False</td>\n      <td>False</td>\n      <td>False</td>\n      <td>False</td>\n      <td>False</td>\n      <td>False</td>\n      <td>False</td>\n      <td>False</td>\n    </tr>\n    <tr>\n      <th>Piano</th>\n      <td>0</td>\n      <td>C</td>\n      <td>120.0</td>\n      <td>4/4</td>\n      <td>False</td>\n      <td>False</td>\n      <td>False</td>\n      <td>False</td>\n      <td>False</td>\n      <td>False</td>\n      <td>...</td>\n      <td>False</td>\n      <td>False</td>\n      <td>False</td>\n      <td>False</td>\n      <td>False</td>\n      <td>False</td>\n      <td>False</td>\n      <td>False</td>\n      <td>False</td>\n      <td>False</td>\n    </tr>\n    <tr>\n      <th>Piano</th>\n      <td>0</td>\n      <td>C</td>\n      <td>120.0</td>\n      <td>4/4</td>\n      <td>False</td>\n      <td>False</td>\n      <td>False</td>\n      <td>False</td>\n      <td>False</td>\n      <td>False</td>\n      <td>...</td>\n      <td>False</td>\n      <td>False</td>\n      <td>False</td>\n      <td>False</td>\n      <td>False</td>\n      <td>False</td>\n      <td>False</td>\n      <td>False</td>\n      <td>False</td>\n      <td>False</td>\n    </tr>\n  </tbody>\n</table>\n<p>288 rows × 92 columns</p>\n</div>"
     },
     "execution_count": 42,
     "metadata": {},
     "output_type": "execute_result"
    }
   ],
   "source": [
    "test_piano_df = encoded_song[encoded_song.index=='Piano']\n",
    "# test_bass_df = encoded_song[encoded_song.index=='Bass']\n",
    "print(f'Number of frames: {len(test_piano_df.index)}')\n",
    "print(f'Number of bars: {len(test_piano_df.index)//N_FRAMES}')\n",
    "test_piano_df"
   ]
  },
  {
   "cell_type": "code",
   "execution_count": 43,
   "metadata": {
    "scrolled": true
   },
   "outputs": [
    {
     "name": "stdout",
     "output_type": "stream",
     "text": [
      "      inst_code ks    bpm   ts    G#0     A0    B-0     B0     C1    C#1  \\\n",
      "inst                                                                       \n",
      "Piano         0  C  120.0  4/4  False  False  False  False  False  False   \n",
      "Piano         0  C  120.0  4/4  False  False  False  False  False  False   \n",
      "Piano         0  C  120.0  4/4  False  False  False  False  False  False   \n",
      "Piano         0  C  120.0  4/4  False  False  False  False  False  False   \n",
      "Piano         0  C  120.0  4/4  False  False  False  False  False  False   \n",
      "Piano         0  C  120.0  4/4  False  False  False  False  False  False   \n",
      "Piano         0  C  120.0  4/4  False  False  False  False  False  False   \n",
      "Piano         0  C  120.0  4/4  False  False  False  False  False  False   \n",
      "Piano         0  C  120.0  4/4  False  False  False  False  False  False   \n",
      "Piano         0  C  120.0  4/4  False  False  False  False  False  False   \n",
      "Piano         0  C  120.0  4/4  False  False  False  False  False  False   \n",
      "Piano         0  C  120.0  4/4  False  False  False  False  False  False   \n",
      "Piano         0  C  120.0  4/4  False  False  False  False  False  False   \n",
      "Piano         0  C  120.0  4/4  False  False  False  False  False  False   \n",
      "Piano         0  C  120.0  4/4  False  False  False  False  False  False   \n",
      "Piano         0  C  120.0  4/4  False  False  False  False  False  False   \n",
      "Piano         0  C  120.0  4/4  False  False  False  False  False  False   \n",
      "Piano         0  C  120.0  4/4  False  False  False  False  False  False   \n",
      "Piano         0  C  120.0  4/4  False  False  False  False  False  False   \n",
      "Piano         0  C  120.0  4/4  False  False  False  False  False  False   \n",
      "Piano         0  C  120.0  4/4  False  False  False  False  False  False   \n",
      "Piano         0  C  120.0  4/4  False  False  False  False  False  False   \n",
      "Piano         0  C  120.0  4/4  False  False  False  False  False  False   \n",
      "Piano         0  C  120.0  4/4  False  False  False  False  False  False   \n",
      "Piano         0  C  120.0  4/4  False  False  False  False  False  False   \n",
      "Piano         0  C  120.0  4/4  False  False  False  False  False  False   \n",
      "Piano         0  C  120.0  4/4  False  False  False  False  False  False   \n",
      "Piano         0  C  120.0  4/4  False  False  False  False  False  False   \n",
      "Piano         0  C  120.0  4/4  False  False  False  False  False  False   \n",
      "Piano         0  C  120.0  4/4  False  False  False  False  False  False   \n",
      "Piano         0  C  120.0  4/4  False  False  False  False  False  False   \n",
      "Piano         0  C  120.0  4/4  False  False  False  False  False  False   \n",
      "Piano         0  C  120.0  4/4  False  False  False  False  False  False   \n",
      "Piano         0  C  120.0  4/4  False  False  False  False  False  False   \n",
      "Piano         0  C  120.0  4/4  False  False  False  False  False  False   \n",
      "Piano         0  C  120.0  4/4  False  False  False  False  False  False   \n",
      "\n",
      "          D1    E-1     E1     F1    F#1     G1    G#1     A1    B-1     B1  \\\n",
      "inst                                                                          \n",
      "Piano  False  False  False  False  False  False  False  False  False  False   \n",
      "Piano  False  False  False  False  False  False  False  False  False  False   \n",
      "Piano  False  False  False  False  False  False  False  False  False  False   \n",
      "Piano  False  False  False  False  False  False  False  False  False  False   \n",
      "Piano  False  False  False  False  False  False  False  False  False  False   \n",
      "Piano  False  False  False  False  False  False  False  False  False  False   \n",
      "Piano  False  False  False  False  False  False  False  False  False  False   \n",
      "Piano  False  False  False  False  False  False  False  False  False  False   \n",
      "Piano  False  False  False  False  False  False  False  False  False  False   \n",
      "Piano  False  False  False  False  False  False  False  False  False  False   \n",
      "Piano  False  False  False  False  False  False  False  False  False  False   \n",
      "Piano  False  False  False  False  False  False  False  False  False  False   \n",
      "Piano  False  False  False  False  False  False  False  False  False  False   \n",
      "Piano  False  False  False  False  False  False  False  False  False  False   \n",
      "Piano  False  False  False  False  False  False  False  False  False  False   \n",
      "Piano  False  False  False  False  False  False  False  False  False  False   \n",
      "Piano  False  False  False  False  False  False  False  False  False  False   \n",
      "Piano  False  False  False  False  False  False  False  False  False  False   \n",
      "Piano  False  False  False  False  False  False  False  False  False  False   \n",
      "Piano  False  False  False  False  False  False  False  False  False  False   \n",
      "Piano  False  False  False  False  False  False  False  False  False  False   \n",
      "Piano  False  False  False  False  False  False  False  False  False  False   \n",
      "Piano  False  False  False  False  False  False  False  False  False  False   \n",
      "Piano  False  False  False  False  False  False  False  False  False  False   \n",
      "Piano  False  False  False  False  False  False  False  False  False  False   \n",
      "Piano  False  False  False  False  False  False  False  False  False  False   \n",
      "Piano  False  False  False  False  False  False  False  False  False  False   \n",
      "Piano  False  False  False  False  False  False  False  False  False  False   \n",
      "Piano  False  False  False  False  False  False  False  False  False  False   \n",
      "Piano  False  False  False  False  False  False  False  False  False  False   \n",
      "Piano  False  False  False  False  False  False  False  False  False  False   \n",
      "Piano  False  False  False  False  False  False  False  False  False  False   \n",
      "Piano  False  False  False  False  False  False  False  False  False  False   \n",
      "Piano  False  False  False  False  False  False  False  False  False  False   \n",
      "Piano  False  False  False  False  False  False  False  False  False  False   \n",
      "Piano  False  False  False  False  False  False  False  False  False  False   \n",
      "\n",
      "          C2    C#2     D2    E-2     E2     F2    F#2     G2    G#2     A2  \\\n",
      "inst                                                                          \n",
      "Piano  False  False  False  False  False  False  False  False  False  False   \n",
      "Piano  False  False  False  False  False  False  False  False  False  False   \n",
      "Piano  False  False  False  False  False  False  False  False  False  False   \n",
      "Piano  False  False  False  False  False  False  False  False  False  False   \n",
      "Piano  False  False  False  False  False  False  False  False  False  False   \n",
      "Piano  False  False  False  False  False  False  False  False  False  False   \n",
      "Piano  False  False  False  False  False  False  False  False  False  False   \n",
      "Piano  False  False  False  False  False  False  False  False  False  False   \n",
      "Piano  False  False  False  False  False  False  False  False  False  False   \n",
      "Piano  False  False  False  False  False  False  False  False  False  False   \n",
      "Piano  False  False  False  False  False  False  False  False  False  False   \n",
      "Piano  False  False  False  False  False  False  False  False  False  False   \n",
      "Piano  False  False  False  False  False  False  False  False  False  False   \n",
      "Piano  False  False  False  False  False  False  False  False  False  False   \n",
      "Piano  False  False  False  False  False  False  False  False  False  False   \n",
      "Piano  False  False  False  False  False  False  False  False  False  False   \n",
      "Piano  False  False  False  False  False  False  False  False  False  False   \n",
      "Piano  False  False  False  False  False  False  False  False  False  False   \n",
      "Piano  False  False  False  False  False  False  False  False  False  False   \n",
      "Piano  False  False  False  False  False  False  False  False  False  False   \n",
      "Piano  False  False  False  False  False  False  False  False  False  False   \n",
      "Piano  False  False  False  False  False  False  False  False  False  False   \n",
      "Piano  False  False  False  False  False  False  False  False  False  False   \n",
      "Piano  False  False  False  False  False  False  False  False  False  False   \n",
      "Piano  False  False  False  False  False  False  False  False  False  False   \n",
      "Piano  False  False  False  False  False  False  False  False  False  False   \n",
      "Piano  False  False  False  False  False  False  False  False  False  False   \n",
      "Piano  False  False  False  False  False  False  False  False  False  False   \n",
      "Piano  False  False  False  False  False  False  False  False  False  False   \n",
      "Piano  False  False  False  False  False  False  False  False  False  False   \n",
      "Piano  False  False  False  False  False  False  False  False  False  False   \n",
      "Piano  False  False  False  False  False  False  False  False  False  False   \n",
      "Piano  False  False  False  False  False  False  False  False  False  False   \n",
      "Piano  False  False  False  False  False  False  False  False  False  False   \n",
      "Piano  False  False  False  False  False  False  False  False  False  False   \n",
      "Piano  False  False  False  False  False  False  False  False  False  False   \n",
      "\n",
      "         B-2     B2     C3    C#3     D3    E-3     E3     F3    F#3     G3  \\\n",
      "inst                                                                          \n",
      "Piano  False  False  False  False  False  False  False  False  False  False   \n",
      "Piano  False  False  False  False  False  False  False  False  False  False   \n",
      "Piano  False  False  False  False  False  False  False  False  False  False   \n",
      "Piano  False  False  False  False  False  False  False  False  False  False   \n",
      "Piano  False  False  False  False  False  False  False  False  False  False   \n",
      "Piano  False  False  False  False  False  False  False  False  False  False   \n",
      "Piano  False  False  False  False  False  False  False  False  False  False   \n",
      "Piano  False  False  False  False  False  False  False  False  False  False   \n",
      "Piano  False  False  False  False  False  False  False  False  False  False   \n",
      "Piano  False  False  False  False  False  False  False  False  False  False   \n",
      "Piano  False  False  False  False  False  False  False  False  False  False   \n",
      "Piano  False  False  False  False  False  False  False  False  False  False   \n",
      "Piano  False  False  False  False  False  False  False  False  False  False   \n",
      "Piano  False  False  False  False  False  False  False  False  False  False   \n",
      "Piano  False  False  False  False  False  False  False  False  False  False   \n",
      "Piano  False  False  False  False  False  False  False  False  False  False   \n",
      "Piano  False  False  False  False  False  False  False  False  False  False   \n",
      "Piano  False  False  False  False  False  False  False  False  False  False   \n",
      "Piano  False  False  False  False  False  False  False  False  False  False   \n",
      "Piano  False  False  False  False  False  False  False  False  False  False   \n",
      "Piano  False  False  False  False  False  False  False  False  False  False   \n",
      "Piano  False  False  False  False  False  False  False  False  False  False   \n",
      "Piano  False  False  False  False  False  False  False  False  False  False   \n",
      "Piano  False  False  False  False  False  False  False  False  False  False   \n",
      "Piano  False  False  False  False  False  False  False  False  False  False   \n",
      "Piano  False  False  False  False  False  False  False  False  False  False   \n",
      "Piano  False  False  False  False  False  False  False  False  False  False   \n",
      "Piano  False  False  False  False  False  False  False  False  False  False   \n",
      "Piano  False  False  False  False  False  False  False  False  False  False   \n",
      "Piano  False  False  False  False  False  False  False  False  False  False   \n",
      "Piano  False  False  False  False  False  False  False  False  False  False   \n",
      "Piano  False  False  False  False  False  False  False  False  False  False   \n",
      "Piano  False  False  False  False  False  False  False  False  False  False   \n",
      "Piano  False  False  False  False  False  False  False  False  False  False   \n",
      "Piano  False  False  False  False  False  False  False  False  False  False   \n",
      "Piano  False  False  False  False  False  False  False  False  False  False   \n",
      "\n",
      "         G#3     A3    B-3     B3     C4    C#4     D4    E-4     E4     F4  \\\n",
      "inst                                                                          \n",
      "Piano  False  False  False  False  False  False  False  False  False  False   \n",
      "Piano  False  False  False  False  False  False  False  False  False  False   \n",
      "Piano  False  False  False  False  False  False  False  False  False  False   \n",
      "Piano  False  False  False  False  False  False  False  False  False  False   \n",
      "Piano  False  False  False  False  False  False  False  False  False  False   \n",
      "Piano  False  False  False  False  False  False  False  False  False  False   \n",
      "Piano  False  False  False  False  False  False  False  False  False  False   \n",
      "Piano  False  False  False  False  False  False  False  False  False  False   \n",
      "Piano  False  False  False  False  False  False  False  False  False  False   \n",
      "Piano  False  False  False  False  False  False  False  False  False  False   \n",
      "Piano  False  False  False  False  False  False  False  False  False  False   \n",
      "Piano  False  False  False  False  False  False  False  False  False  False   \n",
      "Piano  False  False  False  False  False  False  False  False  False  False   \n",
      "Piano  False  False  False  False  False  False  False  False  False  False   \n",
      "Piano  False  False  False  False  False  False  False  False  False  False   \n",
      "Piano  False  False  False  False  False  False  False  False  False  False   \n",
      "Piano  False  False  False  False  False  False  False  False  False  False   \n",
      "Piano  False  False  False  False  False  False  False  False  False  False   \n",
      "Piano  False  False  False  False  False  False  False  False  False  False   \n",
      "Piano  False  False  False  False  False  False  False  False  False  False   \n",
      "Piano  False  False  False  False  False  False  False  False  False  False   \n",
      "Piano  False  False  False  False  False  False  False  False  False  False   \n",
      "Piano  False  False  False  False  False  False  False  False  False  False   \n",
      "Piano  False  False  False  False  False  False  False  False  False  False   \n",
      "Piano  False  False  False  False  False  False  False  False  False  False   \n",
      "Piano  False  False  False  False  False  False  False  False  False  False   \n",
      "Piano  False  False  False  False  False  False  False  False  False  False   \n",
      "Piano  False  False  False  False  False  False  False  False  False  False   \n",
      "Piano  False  False  False  False  False  False  False  False  False  False   \n",
      "Piano  False  False  False  False  False  False  False  False  False  False   \n",
      "Piano  False  False  False  False  False  False  False  False  False  False   \n",
      "Piano  False  False  False  False  False  False  False  False  False  False   \n",
      "Piano  False  False  False  False  False  False  False  False  False  False   \n",
      "Piano  False  False  False  False  False  False  False  False  False  False   \n",
      "Piano  False  False  False  False  False  False  False  False  False  False   \n",
      "Piano  False  False  False  False  False  False  False  False  False  False   \n",
      "\n",
      "         F#4     G4    G#4     A4    B-4     B4     C5    C#5     D5    E-5  \\\n",
      "inst                                                                          \n",
      "Piano  False  False  False   True  False  False  False  False  False  False   \n",
      "Piano  False  False  False   True  False  False  False  False  False  False   \n",
      "Piano  False  False  False   True  False  False  False  False  False  False   \n",
      "Piano  False  False  False   True  False  False  False  False  False  False   \n",
      "Piano  False  False  False   True  False  False  False  False  False  False   \n",
      "Piano  False  False  False   True  False  False  False  False  False  False   \n",
      "Piano  False  False  False   True  False  False  False  False  False  False   \n",
      "Piano  False  False  False   True  False  False  False  False  False  False   \n",
      "Piano  False  False  False   True  False  False  False  False  False  False   \n",
      "Piano  False  False  False   True  False  False  False  False  False  False   \n",
      "Piano  False  False  False   True  False  False  False  False  False  False   \n",
      "Piano  False  False  False   True  False  False  False  False  False  False   \n",
      "Piano  False  False  False   True  False  False  False  False  False  False   \n",
      "Piano  False  False  False   True  False  False  False  False  False  False   \n",
      "Piano  False  False  False   True  False  False  False  False  False  False   \n",
      "Piano  False  False  False   True  False  False  False  False  False  False   \n",
      "Piano  False  False  False   True  False  False  False  False  False  False   \n",
      "Piano  False  False  False   True  False  False  False  False  False  False   \n",
      "Piano  False  False  False   True  False  False  False  False  False  False   \n",
      "Piano  False  False  False   True  False  False  False  False  False  False   \n",
      "Piano  False  False  False   True  False  False  False  False  False  False   \n",
      "Piano  False  False  False   True  False  False  False  False  False  False   \n",
      "Piano  False  False  False   True  False  False  False  False  False  False   \n",
      "Piano  False  False  False   True  False  False  False  False  False  False   \n",
      "Piano  False  False  False   True  False  False  False  False  False  False   \n",
      "Piano  False  False  False   True  False  False  False  False  False  False   \n",
      "Piano  False  False  False   True  False  False  False  False  False  False   \n",
      "Piano  False  False  False   True  False  False  False  False  False  False   \n",
      "Piano  False  False  False   True  False  False  False  False  False  False   \n",
      "Piano  False  False  False   True  False  False  False  False  False  False   \n",
      "Piano  False  False  False   True  False  False  False  False  False  False   \n",
      "Piano  False  False  False   True  False  False  False  False  False  False   \n",
      "Piano  False  False  False   True  False  False  False  False  False  False   \n",
      "Piano  False  False  False  False  False  False  False  False  False  False   \n",
      "Piano  False  False  False  False  False  False  False  False  False  False   \n",
      "Piano  False  False  False  False  False  False  False  False  False  False   \n",
      "\n",
      "          E5     F5    F#5     G5    G#5     A5    B-5     B5     C6    C#6  \\\n",
      "inst                                                                          \n",
      "Piano  False  False  False  False  False  False  False  False  False  False   \n",
      "Piano  False  False  False  False  False  False  False  False  False  False   \n",
      "Piano  False  False  False  False  False  False  False  False  False  False   \n",
      "Piano  False  False  False  False  False  False  False  False  False  False   \n",
      "Piano  False  False  False  False  False  False  False  False  False  False   \n",
      "Piano  False  False  False  False  False  False  False  False  False  False   \n",
      "Piano  False  False  False  False  False  False  False  False  False  False   \n",
      "Piano  False  False  False  False  False  False  False  False  False  False   \n",
      "Piano  False  False  False  False  False  False  False  False  False  False   \n",
      "Piano  False  False  False  False  False  False  False  False  False  False   \n",
      "Piano  False  False  False  False  False  False  False  False  False  False   \n",
      "Piano  False  False  False  False  False  False  False  False  False  False   \n",
      "Piano  False  False  False  False  False  False  False  False  False  False   \n",
      "Piano  False  False  False  False  False  False  False  False  False  False   \n",
      "Piano  False  False  False  False  False  False  False  False  False  False   \n",
      "Piano  False  False  False  False  False  False  False  False  False  False   \n",
      "Piano  False  False  False  False  False  False  False  False  False  False   \n",
      "Piano  False  False  False  False  False  False  False  False  False  False   \n",
      "Piano  False  False  False  False  False  False  False  False  False  False   \n",
      "Piano  False  False  False  False  False  False  False  False  False  False   \n",
      "Piano  False  False  False  False  False  False  False  False  False  False   \n",
      "Piano  False  False  False  False  False  False  False  False  False  False   \n",
      "Piano  False  False  False  False  False  False  False  False  False  False   \n",
      "Piano  False  False  False  False  False  False  False  False  False  False   \n",
      "Piano  False  False  False  False  False  False  False  False  False  False   \n",
      "Piano  False  False  False  False  False  False  False  False  False  False   \n",
      "Piano  False  False  False  False  False  False  False  False  False  False   \n",
      "Piano  False  False  False  False  False  False  False  False  False  False   \n",
      "Piano  False  False  False  False  False  False  False  False  False  False   \n",
      "Piano  False  False  False  False  False  False  False  False  False  False   \n",
      "Piano  False  False  False  False  False  False  False  False  False  False   \n",
      "Piano  False  False  False  False  False  False  False  False  False  False   \n",
      "Piano  False  False  False  False  False  False  False  False  False  False   \n",
      "Piano  False  False  False  False  False  False  False  False  False  False   \n",
      "Piano  False  False  False  False  False  False  False  False  False  False   \n",
      "Piano  False  False  False  False  False  False  False  False  False  False   \n",
      "\n",
      "          D6    E-6     E6     F6    F#6     G6    G#6     A6    B-6     B6  \\\n",
      "inst                                                                          \n",
      "Piano  False  False  False  False  False  False  False  False  False  False   \n",
      "Piano  False  False  False  False  False  False  False  False  False  False   \n",
      "Piano  False  False  False  False  False  False  False  False  False  False   \n",
      "Piano  False  False  False  False  False  False  False  False  False  False   \n",
      "Piano  False  False  False  False  False  False  False  False  False  False   \n",
      "Piano  False  False  False  False  False  False  False  False  False  False   \n",
      "Piano  False  False  False  False  False  False  False  False  False  False   \n",
      "Piano  False  False  False  False  False  False  False  False  False  False   \n",
      "Piano  False  False  False  False  False  False  False  False  False  False   \n",
      "Piano  False  False  False  False  False  False  False  False  False  False   \n",
      "Piano  False  False  False  False  False  False  False  False  False  False   \n",
      "Piano  False  False  False  False  False  False  False  False  False  False   \n",
      "Piano  False  False  False  False  False  False  False  False  False  False   \n",
      "Piano  False  False  False  False  False  False  False  False  False  False   \n",
      "Piano  False  False  False  False  False  False  False  False  False  False   \n",
      "Piano  False  False  False  False  False  False  False  False  False  False   \n",
      "Piano  False  False  False  False  False  False  False  False  False  False   \n",
      "Piano  False  False  False  False  False  False  False  False  False  False   \n",
      "Piano  False  False  False  False  False  False  False  False  False  False   \n",
      "Piano  False  False  False  False  False  False  False  False  False  False   \n",
      "Piano  False  False  False  False  False  False  False  False  False  False   \n",
      "Piano  False  False  False  False  False  False  False  False  False  False   \n",
      "Piano  False  False  False  False  False  False  False  False  False  False   \n",
      "Piano  False  False  False  False  False  False  False  False  False  False   \n",
      "Piano  False  False  False  False  False  False  False  False  False  False   \n",
      "Piano  False  False  False  False  False  False  False  False  False  False   \n",
      "Piano  False  False  False  False  False  False  False  False  False  False   \n",
      "Piano  False  False  False  False  False  False  False  False  False  False   \n",
      "Piano  False  False  False  False  False  False  False  False  False  False   \n",
      "Piano  False  False  False  False  False  False  False  False  False  False   \n",
      "Piano  False  False  False  False  False  False  False  False  False  False   \n",
      "Piano  False  False  False  False  False  False  False  False  False  False   \n",
      "Piano  False  False  False  False  False  False  False  False  False  False   \n",
      "Piano  False  False  False  False  False  False  False  False  False  False   \n",
      "Piano  False  False  False  False  False  False  False  False  False  False   \n",
      "Piano  False  False  False  False  False  False  False  False  False  False   \n",
      "\n",
      "          C7    C#7     D7    E-7     E7     F7    F#7     G7    G#7     A7  \\\n",
      "inst                                                                          \n",
      "Piano  False  False  False  False  False  False  False  False  False  False   \n",
      "Piano  False  False  False  False  False  False  False  False  False  False   \n",
      "Piano  False  False  False  False  False  False  False  False  False  False   \n",
      "Piano  False  False  False  False  False  False  False  False  False  False   \n",
      "Piano  False  False  False  False  False  False  False  False  False  False   \n",
      "Piano  False  False  False  False  False  False  False  False  False  False   \n",
      "Piano  False  False  False  False  False  False  False  False  False  False   \n",
      "Piano  False  False  False  False  False  False  False  False  False  False   \n",
      "Piano  False  False  False  False  False  False  False  False  False  False   \n",
      "Piano  False  False  False  False  False  False  False  False  False  False   \n",
      "Piano  False  False  False  False  False  False  False  False  False  False   \n",
      "Piano  False  False  False  False  False  False  False  False  False  False   \n",
      "Piano  False  False  False  False  False  False  False  False  False  False   \n",
      "Piano  False  False  False  False  False  False  False  False  False  False   \n",
      "Piano  False  False  False  False  False  False  False  False  False  False   \n",
      "Piano  False  False  False  False  False  False  False  False  False  False   \n",
      "Piano  False  False  False  False  False  False  False  False  False  False   \n",
      "Piano  False  False  False  False  False  False  False  False  False  False   \n",
      "Piano  False  False  False  False  False  False  False  False  False  False   \n",
      "Piano  False  False  False  False  False  False  False  False  False  False   \n",
      "Piano  False  False  False  False  False  False  False  False  False  False   \n",
      "Piano  False  False  False  False  False  False  False  False  False  False   \n",
      "Piano  False  False  False  False  False  False  False  False  False  False   \n",
      "Piano  False  False  False  False  False  False  False  False  False  False   \n",
      "Piano  False  False  False  False  False  False  False  False  False  False   \n",
      "Piano  False  False  False  False  False  False  False  False  False  False   \n",
      "Piano  False  False  False  False  False  False  False  False  False  False   \n",
      "Piano  False  False  False  False  False  False  False  False  False  False   \n",
      "Piano  False  False  False  False  False  False  False  False  False  False   \n",
      "Piano  False  False  False  False  False  False  False  False  False  False   \n",
      "Piano  False  False  False  False  False  False  False  False  False  False   \n",
      "Piano  False  False  False  False  False  False  False  False  False  False   \n",
      "Piano  False  False  False  False  False  False  False  False  False  False   \n",
      "Piano  False  False  False  False  False  False  False  False  False  False   \n",
      "Piano  False  False  False  False  False  False  False  False  False  False   \n",
      "Piano  False  False  False  False  False  False  False  False  False  False   \n",
      "\n",
      "         B-7     B7  \n",
      "inst                 \n",
      "Piano  False  False  \n",
      "Piano  False  False  \n",
      "Piano  False  False  \n",
      "Piano  False  False  \n",
      "Piano  False  False  \n",
      "Piano  False  False  \n",
      "Piano  False  False  \n",
      "Piano  False  False  \n",
      "Piano  False  False  \n",
      "Piano  False  False  \n",
      "Piano  False  False  \n",
      "Piano  False  False  \n",
      "Piano  False  False  \n",
      "Piano  False  False  \n",
      "Piano  False  False  \n",
      "Piano  False  False  \n",
      "Piano  False  False  \n",
      "Piano  False  False  \n",
      "Piano  False  False  \n",
      "Piano  False  False  \n",
      "Piano  False  False  \n",
      "Piano  False  False  \n",
      "Piano  False  False  \n",
      "Piano  False  False  \n",
      "Piano  False  False  \n",
      "Piano  False  False  \n",
      "Piano  False  False  \n",
      "Piano  False  False  \n",
      "Piano  False  False  \n",
      "Piano  False  False  \n",
      "Piano  False  False  \n",
      "Piano  False  False  \n",
      "Piano  False  False  \n",
      "Piano  False  False  \n",
      "Piano  False  False  \n",
      "Piano  False  False  \n"
     ]
    }
   ],
   "source": [
    "with pd.option_context('display.max_rows', None, 'display.max_columns', None):  # more options can be specified also\n",
    "    print(test_piano_df.iloc[5*36:6*36])"
   ]
  },
  {
   "cell_type": "markdown",
   "metadata": {},
   "source": [
    "### Preprocess data"
   ]
  },
  {
   "cell_type": "code",
   "execution_count": 44,
   "metadata": {},
   "outputs": [],
   "source": [
    "def get_stackframe(encoded_song, init_idx, final_idx, to_float=True):\n",
    "    stackframe = encoded_song.iloc[init_idx:final_idx, 4:]\n",
    "    stackframe = stackframe.to_numpy()\n",
    "\n",
    "    # print(f'Stackframe shape: {stackframe.shape}')\n",
    "    if to_float:\n",
    "        stackframe.astype(float)\n",
    "        stackframe = stackframe + 0.0\n",
    "\n",
    "    return stackframe"
   ]
  },
  {
   "cell_type": "code",
   "execution_count": 45,
   "metadata": {},
   "outputs": [],
   "source": [
    "def get_info(encoded_song, num_frames=N_FRAMES):\n",
    "    infos = encoded_song.iloc[:num_frames, 0:4]\n",
    "    return infos"
   ]
  },
  {
   "cell_type": "code",
   "execution_count": 46,
   "metadata": {},
   "outputs": [],
   "source": [
    "infos = get_info(test_piano_df, len(test_piano_df))"
   ]
  },
  {
   "cell_type": "code",
   "execution_count": 47,
   "metadata": {},
   "outputs": [],
   "source": [
    "import os\n",
    "def create_dataset(root_dir, instrument, N_FRAMES=36):\n",
    "    dataset = []\n",
    "    for filename in os.listdir(root_dir):\n",
    "        if filename.endswith('pkl'):\n",
    "            infile = open(root_dir + filename,'rb')\n",
    "            encoded_song = pickle.load(infile)\n",
    "            infile.close()\n",
    "            encoded_part = encoded_song[encoded_song.index==instrument]\n",
    "            \n",
    "            init_idx = 0\n",
    "            final_idx = len(encoded_part)\n",
    "            stackframe = get_stackframe(encoded_part, init_idx=init_idx, final_idx=final_idx)\n",
    "            dataset.append(np.array(stackframe))\n",
    "      \n",
    "    return dataset"
   ]
  },
  {
   "cell_type": "code",
   "execution_count": 48,
   "metadata": {
    "scrolled": true
   },
   "outputs": [
    {
     "name": "stdout",
     "output_type": "stream",
     "text": [
      "Dataset size: 1 song(s)\n"
     ]
    },
    {
     "data": {
      "text/plain": "array([[0.0, 0.0, 0.0, ..., 0.0, 0.0, 0.0],\n       [0.0, 0.0, 0.0, ..., 0.0, 0.0, 0.0],\n       [0.0, 0.0, 0.0, ..., 0.0, 0.0, 0.0],\n       ...,\n       [0.0, 0.0, 0.0, ..., 0.0, 0.0, 0.0],\n       [0.0, 0.0, 0.0, ..., 0.0, 0.0, 0.0],\n       [0.0, 0.0, 0.0, ..., 0.0, 0.0, 0.0]], dtype=object)"
     },
     "execution_count": 14,
     "metadata": {},
     "output_type": "execute_result"
    },
    {
     "name": "stdout",
     "output_type": "stream",
     "text": [
      "Dataset size: 1 song(s)\n"
     ]
    },
    {
     "data": {
      "text/plain": "array([[0.0, 0.0, 0.0, ..., 0.0, 0.0, 0.0],\n       [0.0, 0.0, 0.0, ..., 0.0, 0.0, 0.0],\n       [0.0, 0.0, 0.0, ..., 0.0, 0.0, 0.0],\n       ...,\n       [0.0, 0.0, 0.0, ..., 0.0, 0.0, 0.0],\n       [0.0, 0.0, 0.0, ..., 0.0, 0.0, 0.0],\n       [0.0, 0.0, 0.0, ..., 0.0, 0.0, 0.0]], dtype=object)"
     },
     "execution_count": 48,
     "metadata": {},
     "output_type": "execute_result"
    }
   ],
   "source": [
    "root_dir = '../encoded/'\n",
    "instrument = 'Piano'\n",
    "\n",
    "dataset = create_dataset(root_dir, instrument)\n",
    "print(f'Dataset size: {len(dataset)} song(s)')\n",
    "dataset[0]"
   ]
  },
  {
   "cell_type": "code",
   "execution_count": 49,
   "metadata": {},
   "outputs": [],
   "source": [
    "def split_dataset(dataset):\n",
    "    X = []\n",
    "    y = []\n",
    "    \n",
    "    # create two arrays X, y with bars\n",
    "    for song in dataset:\n",
    "        for i in range(song.shape[0] - N_FRAMES):\n",
    "            j = i + 36\n",
    "            xa = song[i:(j-1)]\n",
    "            ya = song[i+1:j]\n",
    "            X.append(xa)\n",
    "            y.append(ya)\n",
    "        \n",
    "    X = np.array(X, dtype='float64')\n",
    "    y = np.array(y, dtype='float64')\n",
    "    X = torch.from_numpy(X)\n",
    "    y = torch.from_numpy(y)\n",
    "    print(f'X.shape, y.shape: {X.shape, y.shape}')\n",
    "    train_ds = TensorDataset(X, y) # (X, y)\n",
    "    return train_ds"
   ]
  },
  {
   "cell_type": "code",
   "execution_count": 50,
   "metadata": {
    "scrolled": false
   },
   "outputs": [
    {
     "name": "stdout",
     "output_type": "stream",
     "text": [
      "X.shape, y.shape: (torch.Size([252, 35, 88]), torch.Size([252, 35, 88]))\n",
      "X.shape, y.shape: (torch.Size([252, 35, 88]), torch.Size([252, 35, 88]))\n"
     ]
    }
   ],
   "source": [
    "train_ds = split_dataset(dataset)\n",
    "train_dl = DataLoader(train_ds, batch_size=1, shuffle=True)"
   ]
  },
  {
   "cell_type": "code",
   "execution_count": 51,
   "metadata": {
    "scrolled": true
   },
   "outputs": [
    {
     "data": {
      "text/plain": "inst\nPiano    False\nPiano    False\nPiano    False\nPiano    False\nPiano    False\nPiano    False\nPiano    False\nPiano    False\nPiano    False\nPiano    False\nPiano    False\nPiano    False\nPiano    False\nPiano    False\nPiano    False\nPiano    False\nPiano    False\nPiano    False\nPiano    False\nPiano    False\nPiano    False\nPiano    False\nPiano    False\nPiano    False\nPiano    False\nPiano    False\nPiano    False\nPiano    False\nPiano    False\nPiano    False\nPiano    False\nPiano    False\nPiano    False\nPiano    False\nPiano    False\nPiano    False\nName: A5, dtype: object"
     },
     "execution_count": 17,
     "metadata": {},
     "output_type": "execute_result"
    },
    {
     "data": {
      "text/plain": "inst\nPiano    False\nPiano    False\nPiano    False\nPiano    False\nPiano    False\nPiano    False\nPiano    False\nPiano    False\nPiano    False\nPiano    False\nPiano    False\nPiano    False\nPiano    False\nPiano    False\nPiano    False\nPiano    False\nPiano    False\nPiano    False\nPiano    False\nPiano    False\nPiano    False\nPiano    False\nPiano    False\nPiano    False\nPiano    False\nPiano    False\nPiano    False\nPiano    False\nPiano    False\nPiano    False\nPiano    False\nPiano    False\nPiano    False\nPiano    False\nPiano    False\nPiano    False\nName: A5, dtype: object"
     },
     "execution_count": 51,
     "metadata": {},
     "output_type": "execute_result"
    }
   ],
   "source": [
    "torch.set_printoptions(threshold=10_000)\n",
    "x_ds = train_ds[180][0]\n",
    "y = train_ds[180][1]\n",
    "\n",
    "x = test_piano_df.iloc[5*36:6*36]\n",
    "x.A5"
   ]
  },
  {
   "cell_type": "markdown",
   "metadata": {
    "id": "36_oJxxUKqXV"
   },
   "source": [
    "## Model"
   ]
  },
  {
   "cell_type": "markdown",
   "metadata": {
    "id": "_WoQLay4L2UH"
   },
   "source": [
    "Some important definitions"
   ]
  },
  {
   "cell_type": "code",
   "execution_count": 52,
   "metadata": {
    "id": "2dDRl36nL1g3"
   },
   "outputs": [
    {
     "name": "stdout",
     "output_type": "stream",
     "text": [
      "Number of bars in the input dataset: 252\n",
      "Number of bars in the input dataset: 252\n"
     ]
    }
   ],
   "source": [
    "windows_size = 36\n",
    "keyboard_size = 88\n",
    "n_bars_input = len(train_dl.dataset.tensors[0]) # number of rows of the dataloader\n",
    "num_layers = 2\n",
    "hidden_size = 88\n",
    "num_epochs = 3\n",
    "batch_size = 1\n",
    "lr = 0.003\n",
    "print('Number of bars in the input dataset: {}'.format(n_bars_input))"
   ]
  },
  {
   "cell_type": "code",
   "execution_count": 53,
   "metadata": {
    "id": "xccNf_olwOB-"
   },
   "outputs": [],
   "source": [
    "class RNN(nn.Module):\n",
    "  def __init__(self, input_size, hidden_size, num_layers, output_size):\n",
    "    super(RNN, self).__init__()\n",
    "    self.hidden_size = hidden_size\n",
    "    self.num_layers = num_layers\n",
    "\n",
    "    #self.embed = nn.Embedding(input_size, hidden_size)\n",
    "    self.lstm = nn.LSTM(input_size, hidden_size, num_layers, batch_first=False)\n",
    "    # self.fc = nn.Linear(hidden_size, output_size)\n",
    "    self.act = nn.ReLU()\n",
    "    # self.act = nn.Sigmoid()\n",
    "\n",
    "  def forward(self, x, hidden, cell):\n",
    "\n",
    "    # Passing in the input and hidden state into the model and obtaining outputs\n",
    "    out, (hidden, cell) = self.lstm(x.unsqueeze(1), (hidden, cell))\n",
    "\n",
    "    # Reshaping the outputs such that it can be fit into the fully connected layer\n",
    "    #print(torch.squeeze(out[-1]))\n",
    "    out = out.contiguous().view(-1, self.hidden_size)\n",
    "    out = self.act(out)\n",
    "    \n",
    "    return out, (hidden, cell)\n",
    "\n",
    "  def init_hidden(self, batch_size):\n",
    "    # This method generates the first hidden state of zeros which we'll use in the forward pass\n",
    "    # We'll send the tensor holding the hidden state to the device we specified earlier as well\n",
    "    hidden = torch.zeros(self.num_layers, batch_size, self.hidden_size).to(device)\n",
    "    cell = torch.zeros(self.num_layers, batch_size, self.hidden_size).to(device)\n",
    "    return hidden, cell"
   ]
  },
  {
   "cell_type": "code",
   "execution_count": 54,
   "metadata": {
    "id": "Wuz3cuadTwBO"
   },
   "outputs": [],
   "source": [
    "# Instantiate the model with hyperparameters\n",
    "# We'll also set the model to the device that we defined earlier (default is CPU)\n",
    "model = RNN(input_size=keyboard_size,\n",
    "                   output_size=keyboard_size,\n",
    "                   hidden_size=hidden_size,\n",
    "                   num_layers=num_layers).to(device)"
   ]
  },
  {
   "cell_type": "code",
   "execution_count": 55,
   "outputs": [
    {
     "name": "stdout",
     "output_type": "stream",
     "text": [
      "RNN(\n",
      "  (lstm): LSTM(88, 88, num_layers=2)\n",
      "  (act): ReLU()\n",
      ")\n",
      "RNN(\n",
      "  (lstm): LSTM(88, 88, num_layers=2)\n",
      "  (act): ReLU()\n",
      ")\n"
     ]
    }
   ],
   "source": [
    "print(model)\n"
   ],
   "metadata": {
    "collapsed": false,
    "pycharm": {
     "name": "#%%\n"
    }
   }
  },
  {
   "cell_type": "markdown",
   "metadata": {
    "id": "Z0nzJ81IUJfb"
   },
   "source": [
    "## Train"
   ]
  },
  {
   "cell_type": "code",
   "execution_count": 56,
   "metadata": {
    "id": "kp8XF-fsUIrQ"
   },
   "outputs": [],
   "source": [
    "# converts one frame into torch tensor\n",
    "def multi_hot_tensor(frame):\n",
    "  tensor = torch.from_numpy(frame)\n",
    "  return tensor"
   ]
  },
  {
   "cell_type": "code",
   "execution_count": 57,
   "metadata": {
    "id": "pyX628diUT8U"
   },
   "outputs": [],
   "source": [
    "# retrieve data from dataloader\n",
    "def get_sample(dataloader):\n",
    "\n",
    "  input = torch.zeros(n_bars_input, windows_size-1, keyboard_size)\n",
    "  target = torch.zeros(n_bars_input, windows_size-1, keyboard_size)\n",
    "\n",
    "  for sample, (xb, yb) in enumerate(dataloader): # gets the samples\n",
    "    input[sample] = xb\n",
    "    target[sample] = yb\n",
    "  \n",
    "  return input, target"
   ]
  },
  {
   "cell_type": "code",
   "execution_count": 58,
   "metadata": {
    "id": "vWchu1L7UcWS"
   },
   "outputs": [],
   "source": [
    "def train(model, optimizer, loss_fn, dataloader, batch_size=1, num_epochs=3):\n",
    "  writer = SummaryWriter()\n",
    "\n",
    "  print(\"\\nStarting training...\")\n",
    "\n",
    "  for epoch in range(1, num_epochs + 1):\n",
    "      training_loss = 0.0\n",
    "\n",
    "      print('> EPOCH #', epoch)\n",
    "\n",
    "      input, target = get_sample(dataloader)\n",
    "      input = input.to(device)\n",
    "      target = target.to(device)\n",
    "\n",
    "      hidden, cell = model.init_hidden(batch_size)\n",
    "\n",
    "      for fb_i in tqdm(range(len(train_dl.dataset.tensors[0]))):\n",
    "          # Initialize hidden and cells\n",
    "\n",
    "          # Generate predictions\n",
    "          frame_block = input[fb_i,:]\n",
    "          output, (hidden, cell) = model(frame_block, hidden, cell)\n",
    "          # print(f'Output {output}, \\nTarget {target[fb_i, :]}')\n",
    "          # Compute the loss and backpropag\n",
    "          loss_step = loss_fn(output, target[fb_i, :])\n",
    "\n",
    "          hidden = hidden.detach()\n",
    "          cell = cell.detach()\n",
    "\n",
    "          loss_step.backward() # Does backpropagation and calculates gradients\n",
    "          optimizer.step() # Updates the weights accordingly\n",
    "          optimizer.zero_grad() # Clears existing gradients from previous frame\n",
    "\n",
    "          training_loss += loss_step.item()\n",
    "\n",
    "      training_loss /= len(train_dl.dataset)\n",
    "      writer.add_scalar(\"Loss/train\", training_loss, epoch)\n",
    "\n",
    "      if epoch%1 == 0:\n",
    "          print('Epoch: {}/{}.............'.format(epoch, num_epochs), end=' ')\n",
    "          print(\"Loss: {:.8f}\".format(training_loss))\n",
    "\n",
    "      writer.flush()\n",
    "      writer.close()"
   ]
  },
  {
   "cell_type": "code",
   "execution_count": 59,
   "metadata": {
    "colab": {
     "base_uri": "https://localhost:8080/",
     "height": 300,
     "referenced_widgets": [
      "bc050a6242204777aea3fe9d28e5e6df",
      "beebab957f444480bf8157a530ed79e8",
      "c61a7eeaf2534269980b9551bf111bef",
      "efe8413ad4d2439aa2f50c4bab454169",
      "9c217d347c60472190722cb5e7cdc427",
      "8012ff7c2e9d40a7a9a8fa4d52edd9d9",
      "24d69e35b22645b28ade07584e8946a5",
      "93cb1bf6fb814b6f9a66084c1b604ff7",
      "200c87bbbb7b4d48a76da1a665e35da8",
      "5eeb4de9760443fea4a326a2a3830e2c",
      "96c81e685cde46f1856f8d269ed0bb18",
      "70b535dbf46040e0b146c6435d5ddb9d",
      "521a86df828247b38cb6398dc9a7a7db",
      "b53d474c859e463197de33f83b55ddb2",
      "0b93c40cf33841c0bf2577506b02acfb",
      "66b3a4df18d94d8992938a167b47e6b9",
      "472a750722994c53a4370092a56b1834",
      "6a843eb739654b5780c6a0107aa7a1c7",
      "00a0d02e03204382a38689b66596cded",
      "d50cb1e57af741ef8c6618822d047a3a",
      "30e1c4622dce41aa89ca09ad9d828815",
      "fbbdc9dad0b0420394602892a5f61da9",
      "5121d2d97dea48f2ae101f2109dbe813",
      "f67f54d395124db3a83517cf028fc6c7"
     ]
    },
    "id": "Ukx2nlhZWrYP",
    "outputId": "1643ed63-158c-4c7c-f81b-98ad97c9eed3",
    "scrolled": true
   },
   "outputs": [
    {
     "name": "stdout",
     "output_type": "stream",
     "text": [
      "\n",
      "Starting training...\n",
      "> EPOCH # 1\n"
     ]
    },
    {
     "name": "stderr",
     "output_type": "stream",
     "text": [
      "100%|██████████| 252/252 [00:03<00:00, 63.84it/s]\n"
     ]
    },
    {
     "name": "stdout",
     "output_type": "stream",
     "text": [
      "Epoch: 1/10............. Loss: 0.27212487\n",
      "> EPOCH # 2\n"
     ]
    },
    {
     "name": "stderr",
     "output_type": "stream",
     "text": [
      "100%|██████████| 252/252 [00:03<00:00, 69.13it/s]\n"
     ]
    },
    {
     "name": "stdout",
     "output_type": "stream",
     "text": [
      "Epoch: 2/10............. Loss: 0.23596613\n",
      "> EPOCH # 3\n"
     ]
    },
    {
     "name": "stderr",
     "output_type": "stream",
     "text": [
      "100%|██████████| 252/252 [00:03<00:00, 64.75it/s]\n"
     ]
    },
    {
     "name": "stdout",
     "output_type": "stream",
     "text": [
      "Epoch: 3/10............. Loss: 0.23386414\n",
      "> EPOCH # 4\n"
     ]
    },
    {
     "name": "stderr",
     "output_type": "stream",
     "text": [
      "100%|██████████| 252/252 [00:03<00:00, 67.39it/s]\n"
     ]
    },
    {
     "name": "stdout",
     "output_type": "stream",
     "text": [
      "Epoch: 4/10............. Loss: 0.23304463\n",
      "> EPOCH # 5\n"
     ]
    },
    {
     "name": "stderr",
     "output_type": "stream",
     "text": [
      "100%|██████████| 252/252 [00:03<00:00, 71.26it/s]\n"
     ]
    },
    {
     "name": "stdout",
     "output_type": "stream",
     "text": [
      "Epoch: 5/10............. Loss: 0.23341876\n",
      "> EPOCH # 6\n"
     ]
    },
    {
     "name": "stderr",
     "output_type": "stream",
     "text": [
      "100%|██████████| 252/252 [00:03<00:00, 68.79it/s]\n"
     ]
    },
    {
     "name": "stdout",
     "output_type": "stream",
     "text": [
      "Epoch: 6/10............. Loss: 0.23328066\n",
      "> EPOCH # 7\n"
     ]
    },
    {
     "name": "stderr",
     "output_type": "stream",
     "text": [
      "100%|██████████| 252/252 [00:03<00:00, 65.99it/s]\n"
     ]
    },
    {
     "name": "stdout",
     "output_type": "stream",
     "text": [
      "Epoch: 7/10............. Loss: 0.23345872\n",
      "> EPOCH # 8\n"
     ]
    },
    {
     "name": "stderr",
     "output_type": "stream",
     "text": [
      "100%|██████████| 252/252 [00:04<00:00, 57.97it/s]\n"
     ]
    },
    {
     "name": "stdout",
     "output_type": "stream",
     "text": [
      "Epoch: 8/10............. Loss: 0.23268459\n",
      "> EPOCH # 9\n"
     ]
    },
    {
     "name": "stderr",
     "output_type": "stream",
     "text": [
      "100%|██████████| 252/252 [00:04<00:00, 59.89it/s]\n"
     ]
    },
    {
     "name": "stdout",
     "output_type": "stream",
     "text": [
      "Epoch: 9/10............. Loss: 0.23272606\n",
      "> EPOCH # 10\n"
     ]
    },
    {
     "name": "stderr",
     "output_type": "stream",
     "text": [
      "100%|██████████| 252/252 [00:04<00:00, 56.67it/s]"
     ]
    },
    {
     "name": "stdout",
     "output_type": "stream",
     "text": [
      "Epoch: 10/10............. Loss: 0.23389323\n"
     ]
    },
    {
     "name": "stderr",
     "output_type": "stream",
     "text": [
      "\n"
     ]
    },
    {
     "name": "stdout",
     "output_type": "stream",
     "text": [
      "\n",
      "Starting training...\n",
      "> EPOCH # 1\n"
     ]
    },
    {
     "name": "stderr",
     "output_type": "stream",
     "text": [
      "100%|██████████| 252/252 [00:04<00:00, 54.98it/s]\n"
     ]
    },
    {
     "name": "stdout",
     "output_type": "stream",
     "text": [
      "Epoch: 1/10............. Loss: 0.66460201\n",
      "> EPOCH # 2\n"
     ]
    },
    {
     "name": "stderr",
     "output_type": "stream",
     "text": [
      "100%|██████████| 252/252 [00:04<00:00, 57.38it/s]\n"
     ]
    },
    {
     "name": "stdout",
     "output_type": "stream",
     "text": [
      "Epoch: 2/10............. Loss: 0.33492666\n",
      "> EPOCH # 3\n"
     ]
    },
    {
     "name": "stderr",
     "output_type": "stream",
     "text": [
      "100%|██████████| 252/252 [00:04<00:00, 57.78it/s]\n"
     ]
    },
    {
     "name": "stdout",
     "output_type": "stream",
     "text": [
      "Epoch: 3/10............. Loss: 0.23048421\n",
      "> EPOCH # 4\n"
     ]
    },
    {
     "name": "stderr",
     "output_type": "stream",
     "text": [
      "100%|██████████| 252/252 [00:05<00:00, 45.53it/s]\n"
     ]
    },
    {
     "name": "stdout",
     "output_type": "stream",
     "text": [
      "Epoch: 4/10............. Loss: 0.22770634\n",
      "> EPOCH # 5\n"
     ]
    },
    {
     "name": "stderr",
     "output_type": "stream",
     "text": [
      "100%|██████████| 252/252 [00:06<00:00, 40.16it/s]\n"
     ]
    },
    {
     "name": "stdout",
     "output_type": "stream",
     "text": [
      "Epoch: 5/10............. Loss: 0.22529497\n",
      "> EPOCH # 6\n"
     ]
    },
    {
     "name": "stderr",
     "output_type": "stream",
     "text": [
      "100%|██████████| 252/252 [00:05<00:00, 42.22it/s]\n"
     ]
    },
    {
     "name": "stdout",
     "output_type": "stream",
     "text": [
      "Epoch: 6/10............. Loss: 0.22476869\n",
      "> EPOCH # 7\n"
     ]
    },
    {
     "name": "stderr",
     "output_type": "stream",
     "text": [
      "100%|██████████| 252/252 [00:05<00:00, 46.63it/s]\n"
     ]
    },
    {
     "name": "stdout",
     "output_type": "stream",
     "text": [
      "Epoch: 7/10............. Loss: 0.22111573\n",
      "> EPOCH # 8\n"
     ]
    },
    {
     "name": "stderr",
     "output_type": "stream",
     "text": [
      "100%|██████████| 252/252 [00:05<00:00, 45.86it/s]\n"
     ]
    },
    {
     "name": "stdout",
     "output_type": "stream",
     "text": [
      "Epoch: 8/10............. Loss: 0.22070598\n",
      "> EPOCH # 9\n"
     ]
    },
    {
     "name": "stderr",
     "output_type": "stream",
     "text": [
      "100%|██████████| 252/252 [00:05<00:00, 46.25it/s]\n"
     ]
    },
    {
     "name": "stdout",
     "output_type": "stream",
     "text": [
      "Epoch: 9/10............. Loss: 0.22166989\n",
      "> EPOCH # 10\n"
     ]
    },
    {
     "name": "stderr",
     "output_type": "stream",
     "text": [
      "100%|██████████| 252/252 [00:04<00:00, 55.02it/s]"
     ]
    },
    {
     "name": "stdout",
     "output_type": "stream",
     "text": [
      "Epoch: 10/10............. Loss: 0.22025160\n"
     ]
    },
    {
     "name": "stderr",
     "output_type": "stream",
     "text": [
      "\n"
     ]
    }
   ],
   "source": [
    "optimizer = optim.Adam(model.parameters(), lr=lr)\n",
    "loss_fn = nn.BCELoss()\n",
    "train(model, optimizer, loss_fn, train_dl, num_epochs=10)"
   ]
  },
  {
   "cell_type": "code",
   "execution_count": 60,
   "metadata": {
    "scrolled": false
   },
   "outputs": [],
   "source": [
    "# !tensorboard --logdir=runs"
   ]
  },
  {
   "cell_type": "markdown",
   "metadata": {
    "id": "U2iKh7k6WohS"
   },
   "source": [
    "## Test"
   ]
  },
  {
   "cell_type": "code",
   "execution_count": 61,
   "metadata": {
    "pycharm": {
     "name": "#%%\n"
    }
   },
   "outputs": [],
   "source": [
    "def unroll_bars(bars, n_frames=N_FRAMES):\n",
    "\n",
    "    output = []\n",
    "    init_idx = 0\n",
    "    final_idx = len(bars)\n",
    "    stackframe = get_stackframe(bars, init_idx=init_idx, final_idx=final_idx)\n",
    "\n",
    "    return np.array(stackframe, dtype='float64')"
   ]
  },
  {
   "cell_type": "code",
   "execution_count": 62,
   "metadata": {
    "pycharm": {
     "name": "#%%\n"
    }
   },
   "outputs": [],
   "source": [
    "@torch.no_grad()\n",
    "def generate(model, previous_bars, n_frames=N_FRAMES, temperature=0.5, batch_size=1):\n",
    "    hidden, cell = model.init_hidden(batch_size)\n",
    "\n",
    "    unrolled = torch.from_numpy(\n",
    "                    unroll_bars(previous_bars, n_frames)\n",
    "    ).float().to(device)\n",
    "\n",
    "    # for (n - n_frames)\n",
    "    for i in range(len(unrolled) - n_frames):\n",
    "        input_test = unrolled[i:i+n_frames]\n",
    "        #print(input_test.shape)\n",
    "        out, (hidden, cell) = model(input_test, hidden, cell)\n",
    "        \n",
    "    out = np.where(out >= temperature, True, False)\n",
    "    print(out, out.shape)\n",
    "    return out"
   ]
  },
  {
   "cell_type": "code",
   "execution_count": 63,
   "metadata": {
    "colab": {
     "base_uri": "https://localhost:8080/"
    },
    "id": "LWJgz2OYZy6g",
    "outputId": "ac71880d-e54f-43b6-c4b9-008fec9dc46f",
    "scrolled": false
   },
   "outputs": [
    {
     "name": "stdout",
     "output_type": "stream",
     "text": [
      "Decoding instrument: Piano\n",
      "Took 0.45668745040893555\n"
     ]
    },
    {
     "data": {
      "text/plain": "<Figure size 720x432 with 1 Axes>",
      "image/png": "[encoded data removed]"
     },
     "metadata": {
      "image/png": {
       "width": 584,
       "height": 382
      }
     },
     "output_type": "display_data"
    },
    {
     "name": "stdout",
     "output_type": "stream",
     "text": [
      "Decoding instrument: Piano\n",
      "Took 0.40289735794067383\n"
     ]
    },
    {
     "data": {
      "text/plain": "<Figure size 720x432 with 1 Axes>",
      "image/png": "[encoded data removed]"
     },
     "metadata": {
      "image/png": {
       "width": 584,
       "height": 382
      }
     },
     "output_type": "display_data"
    }
   ],
   "source": [
    "test_scale_df = encoded_song[encoded_song.index=='Piano']\n",
    "decode_data(test_scale_df, N_FRAMES).plot()"
   ]
  },
  {
   "cell_type": "code",
   "execution_count": 64,
   "metadata": {},
   "outputs": [],
   "source": [
    "def create_decoded_song(bars, infos):\n",
    "    num_bars = bars.shape[0]\n",
    "    columns = [key_index2note(i, MIDI_OFFSET).nameWithOctave for i in range(bars.shape[2])]\n",
    "    df_decoded_song = pd.DataFrame([], columns=columns)\n",
    "    \n",
    "    for idx_bar in range(num_bars):\n",
    "        indexes = [infos.index[0] for i in range(bars[idx_bar].shape[0])]\n",
    "        df_decoded_bar = pd.DataFrame(bars[idx_bar], columns=columns).set_index(pd.Index(indexes)) \n",
    "        df_decoded_song = df_decoded_song.append(df_decoded_bar) \n",
    "\n",
    "    df_decoded_song.index.name = 'inst'\n",
    "    output = pd.concat([infos, df_decoded_song], axis=1)\n",
    "    return output"
   ]
  },
  {
   "cell_type": "code",
   "execution_count": 65,
   "metadata": {
    "pycharm": {
     "name": "#%%\n"
    }
   },
   "outputs": [],
   "source": [
    "def create_decoded_bar(bar, infos):\n",
    "\n",
    "    columns = [key_index2note(i, MIDI_OFFSET).nameWithOctave for i in range(bar.shape[1])]\n",
    "\n",
    "    indexes = [infos.index[0] for i in range(bar.shape[0])]\n",
    "    df_decoded_bar = pd.DataFrame(bar, columns=columns).set_index(pd.Index(indexes))\n",
    "    df_decoded_bar.index.name = 'inst'\n",
    "    print(infos.shape, df_decoded_bar.shape)\n",
    "    output = pd.concat([infos, df_decoded_bar], axis=1)\n",
    "    return output\n"
   ]
  },
  {
   "cell_type": "markdown",
   "source": [
    "## Previous"
   ],
   "metadata": {
    "collapsed": false,
    "pycharm": {
     "name": "#%% md\n"
    }
   }
  },
  {
   "cell_type": "code",
   "source": [
    "first = 0\n",
    "last = 7\n",
    "\n",
    "previous = test_scale_df.iloc[0:36*last]\n",
    "s_previous = decode_data(previous, N_FRAMES)\n",
    "\n",
    "s_previous.plot()"
   ],
   "metadata": {
    "collapsed": false,
    "pycharm": {
     "name": "#%%\n"
    }
   },
   "execution_count": 66,
   "outputs": [
    {
     "name": "stdout",
     "output_type": "stream",
     "text": [
      "Decoding instrument: Piano\n",
      "Took 0.48232555389404297\n"
     ]
    },
    {
     "data": {
      "text/plain": "<Figure size 720x432 with 1 Axes>",
      "image/png": "[encoded data removed]"
     },
     "metadata": {
      "image/png": {
       "width": 584,
       "height": 382
      }
     },
     "output_type": "display_data"
    },
    {
     "name": "stdout",
     "output_type": "stream",
     "text": [
      "Decoding instrument: Piano\n",
      "Took 0.39409494400024414\n"
     ]
    },
    {
     "data": {
      "text/plain": "<Figure size 720x432 with 1 Axes>",
      "image/png": "[encoded data removed]"
     },
     "metadata": {
      "image/png": {
       "width": 584,
       "height": 382
      }
     },
     "output_type": "display_data"
    }
   ]
  },
  {
   "cell_type": "markdown",
   "source": [
    "## Gerated Output"
   ],
   "metadata": {
    "collapsed": false
   }
  },
  {
   "cell_type": "code",
   "execution_count": 67,
   "outputs": [
    {
     "name": "stdout",
     "output_type": "stream",
     "text": [
      "[[False False False ... False False False]\n",
      " [False False False ... False False False]\n",
      " [False False False ... False False False]\n",
      " ...\n",
      " [False False False ... False False False]\n",
      " [False False False ... False False False]\n",
      " [False False False ... False False False]] (36, 88)\n",
      "[[False False False ... False False False]\n",
      " [False False False ... False False False]\n",
      " [False False False ... False False False]\n",
      " ...\n",
      " [False False False ... False False False]\n",
      " [False False False ... False False False]\n",
      " [False False False ... False False False]]\n",
      "(36, 4) (36, 88)\n",
      "Decoding instrument: Piano\n",
      "Took 0.07953929901123047\n"
     ]
    },
    {
     "data": {
      "text/plain": "<Figure size 720x432 with 1 Axes>",
      "image/png": "[encoded data removed]"
     },
     "metadata": {
      "image/png": {
       "width": 584,
       "height": 382
      }
     },
     "output_type": "display_data"
    },
    {
     "name": "stdout",
     "output_type": "stream",
     "text": [
      "[[False False False ... False False False]\n",
      " [False False False ... False False False]\n",
      " [False False False ... False False False]\n",
      " ...\n",
      " [False False False ... False False False]\n",
      " [False False False ... False False False]\n",
      " [False False False ... False False False]] (36, 88)\n",
      "[[False False False ... False False False]\n",
      " [False False False ... False False False]\n",
      " [False False False ... False False False]\n",
      " ...\n",
      " [False False False ... False False False]\n",
      " [False False False ... False False False]\n",
      " [False False False ... False False False]]\n",
      "(36, 4) (36, 88)\n",
      "Decoding instrument: Piano\n",
      "Took 0.0834956169128418\n"
     ]
    },
    {
     "data": {
      "text/plain": "<Figure size 720x432 with 1 Axes>",
      "image/png": "[encoded data removed]"
     },
     "metadata": {
      "image/png": {
       "width": 584,
       "height": 382
      }
     },
     "output_type": "display_data"
    }
   ],
   "source": [
    "output = generate(model, previous, N_FRAMES, temperature=0.5)\n",
    "print(output)\n",
    "# the info that will be appended to our output is\n",
    "# the infos of the last 36 frames of tu input\n",
    "output_info = get_info(test_piano_df[-(1+N_FRAMES):-1], N_FRAMES)\n",
    "output_df = create_decoded_bar(output, output_info)\n",
    "\n",
    "s_output = decode_data(output_df, N_FRAMES)\n",
    "\n",
    "try:    s_output.plot()\n",
    "except Exception as e: print(e)"
   ],
   "metadata": {
    "collapsed": false,
    "pycharm": {
     "name": "#%%\n"
    }
   }
  },
  {
   "cell_type": "markdown",
   "source": [
    "## Previous + Gerated Output"
   ],
   "metadata": {
    "collapsed": false
   }
  },
  {
   "cell_type": "code",
   "execution_count": 68,
   "outputs": [
    {
     "name": "stdout",
     "output_type": "stream",
     "text": [
      "Decoding instrument: Piano\n",
      "Took 0.5071303844451904\n"
     ]
    },
    {
     "data": {
      "text/plain": "<Figure size 720x432 with 1 Axes>",
      "image/png": "[encoded data removed]"
     },
     "metadata": {
      "image/png": {
       "width": 584,
       "height": 382
      }
     },
     "output_type": "display_data"
    },
    {
     "name": "stdout",
     "output_type": "stream",
     "text": [
      "Decoding instrument: Piano\n",
      "Took 0.553436279296875\n"
     ]
    },
    {
     "data": {
      "text/plain": "<Figure size 720x432 with 1 Axes>",
      "image/png": "[encoded data removed]"
     },
     "metadata": {
      "image/png": {
       "width": 584,
       "height": 382
      }
     },
     "output_type": "display_data"
    }
   ],
   "source": [
    "concat_output = pd.concat([previous, output_df], axis=0)\n",
    "s_concat_output = decode_data(concat_output, N_FRAMES)\n",
    "s_concat_output.plot()\n",
    "\n"
   ],
   "metadata": {
    "collapsed": false,
    "pycharm": {
     "name": "#%%\n"
    }
   }
  }
 ],
 "metadata": {
  "accelerator": "GPU",
  "colab": {
   "name": "MusicGeneratorLSTM.ipynb",
   "provenance": []
  },
  "kernelspec": {
   "display_name": "Python 3",
   "language": "python",
   "name": "python3"
  },
  "language_info": {
   "codemirror_mode": {
    "name": "ipython",
    "version": 3
   },
   "file_extension": ".py",
   "mimetype": "text/x-python",
   "name": "python",
   "nbconvert_exporter": "python",
   "pygments_lexer": "ipython3",
   "version": "3.8.8"
  },
  "widgets": {
   "application/vnd.jupyter.widget-state+json": {
    "00a0d02e03204382a38689b66596cded": {
     "model_module": "@jupyter-widgets/controls",
     "model_name": "FloatProgressModel",
     "state": {
      "_dom_classes": [],
      "_model_module": "@jupyter-widgets/controls",
      "_model_module_version": "1.5.0",
      "_model_name": "FloatProgressModel",
      "_view_count": null,
      "_view_module": "@jupyter-widgets/controls",
      "_view_module_version": "1.5.0",
      "_view_name": "ProgressView",
      "bar_style": "success",
      "description": "100%",
      "description_tooltip": null,
      "layout": "IPY_MODEL_fbbdc9dad0b0420394602892a5f61da9",
      "max": 5010,
      "min": 0,
      "orientation": "horizontal",
      "style": "IPY_MODEL_30e1c4622dce41aa89ca09ad9d828815",
      "value": 5010
     }
    },
    "0b93c40cf33841c0bf2577506b02acfb": {
     "model_module": "@jupyter-widgets/controls",
     "model_name": "DescriptionStyleModel",
     "state": {
      "_model_module": "@jupyter-widgets/controls",
      "_model_module_version": "1.5.0",
      "_model_name": "DescriptionStyleModel",
      "_view_count": null,
      "_view_module": "@jupyter-widgets/base",
      "_view_module_version": "1.2.0",
      "_view_name": "StyleView",
      "description_width": ""
     }
    },
    "200c87bbbb7b4d48a76da1a665e35da8": {
     "model_module": "@jupyter-widgets/controls",
     "model_name": "HBoxModel",
     "state": {
      "_dom_classes": [],
      "_model_module": "@jupyter-widgets/controls",
      "_model_module_version": "1.5.0",
      "_model_name": "HBoxModel",
      "_view_count": null,
      "_view_module": "@jupyter-widgets/controls",
      "_view_module_version": "1.5.0",
      "_view_name": "HBoxView",
      "box_style": "",
      "children": [
       "IPY_MODEL_96c81e685cde46f1856f8d269ed0bb18",
       "IPY_MODEL_70b535dbf46040e0b146c6435d5ddb9d"
      ],
      "layout": "IPY_MODEL_5eeb4de9760443fea4a326a2a3830e2c"
     }
    },
    "24d69e35b22645b28ade07584e8946a5": {
     "model_module": "@jupyter-widgets/controls",
     "model_name": "DescriptionStyleModel",
     "state": {
      "_model_module": "@jupyter-widgets/controls",
      "_model_module_version": "1.5.0",
      "_model_name": "DescriptionStyleModel",
      "_view_count": null,
      "_view_module": "@jupyter-widgets/base",
      "_view_module_version": "1.2.0",
      "_view_name": "StyleView",
      "description_width": ""
     }
    },
    "30e1c4622dce41aa89ca09ad9d828815": {
     "model_module": "@jupyter-widgets/controls",
     "model_name": "ProgressStyleModel",
     "state": {
      "_model_module": "@jupyter-widgets/controls",
      "_model_module_version": "1.5.0",
      "_model_name": "ProgressStyleModel",
      "_view_count": null,
      "_view_module": "@jupyter-widgets/base",
      "_view_module_version": "1.2.0",
      "_view_name": "StyleView",
      "bar_color": null,
      "description_width": "initial"
     }
    },
    "472a750722994c53a4370092a56b1834": {
     "model_module": "@jupyter-widgets/controls",
     "model_name": "HBoxModel",
     "state": {
      "_dom_classes": [],
      "_model_module": "@jupyter-widgets/controls",
      "_model_module_version": "1.5.0",
      "_model_name": "HBoxModel",
      "_view_count": null,
      "_view_module": "@jupyter-widgets/controls",
      "_view_module_version": "1.5.0",
      "_view_name": "HBoxView",
      "box_style": "",
      "children": [
       "IPY_MODEL_00a0d02e03204382a38689b66596cded",
       "IPY_MODEL_d50cb1e57af741ef8c6618822d047a3a"
      ],
      "layout": "IPY_MODEL_6a843eb739654b5780c6a0107aa7a1c7"
     }
    },
    "5121d2d97dea48f2ae101f2109dbe813": {
     "model_module": "@jupyter-widgets/controls",
     "model_name": "DescriptionStyleModel",
     "state": {
      "_model_module": "@jupyter-widgets/controls",
      "_model_module_version": "1.5.0",
      "_model_name": "DescriptionStyleModel",
      "_view_count": null,
      "_view_module": "@jupyter-widgets/base",
      "_view_module_version": "1.2.0",
      "_view_name": "StyleView",
      "description_width": ""
     }
    },
    "521a86df828247b38cb6398dc9a7a7db": {
     "model_module": "@jupyter-widgets/controls",
     "model_name": "ProgressStyleModel",
     "state": {
      "_model_module": "@jupyter-widgets/controls",
      "_model_module_version": "1.5.0",
      "_model_name": "ProgressStyleModel",
      "_view_count": null,
      "_view_module": "@jupyter-widgets/base",
      "_view_module_version": "1.2.0",
      "_view_name": "StyleView",
      "bar_color": null,
      "description_width": "initial"
     }
    },
    "5eeb4de9760443fea4a326a2a3830e2c": {
     "model_module": "@jupyter-widgets/base",
     "model_name": "LayoutModel",
     "state": {
      "_model_module": "@jupyter-widgets/base",
      "_model_module_version": "1.2.0",
      "_model_name": "LayoutModel",
      "_view_count": null,
      "_view_module": "@jupyter-widgets/base",
      "_view_module_version": "1.2.0",
      "_view_name": "LayoutView",
      "align_content": null,
      "align_items": null,
      "align_self": null,
      "border": null,
      "bottom": null,
      "display": null,
      "flex": null,
      "flex_flow": null,
      "grid_area": null,
      "grid_auto_columns": null,
      "grid_auto_flow": null,
      "grid_auto_rows": null,
      "grid_column": null,
      "grid_gap": null,
      "grid_row": null,
      "grid_template_areas": null,
      "grid_template_columns": null,
      "grid_template_rows": null,
      "height": null,
      "justify_content": null,
      "justify_items": null,
      "left": null,
      "margin": null,
      "max_height": null,
      "max_width": null,
      "min_height": null,
      "min_width": null,
      "object_fit": null,
      "object_position": null,
      "order": null,
      "overflow": null,
      "overflow_x": null,
      "overflow_y": null,
      "padding": null,
      "right": null,
      "top": null,
      "visibility": null,
      "width": null
     }
    },
    "66b3a4df18d94d8992938a167b47e6b9": {
     "model_module": "@jupyter-widgets/base",
     "model_name": "LayoutModel",
     "state": {
      "_model_module": "@jupyter-widgets/base",
      "_model_module_version": "1.2.0",
      "_model_name": "LayoutModel",
      "_view_count": null,
      "_view_module": "@jupyter-widgets/base",
      "_view_module_version": "1.2.0",
      "_view_name": "LayoutView",
      "align_content": null,
      "align_items": null,
      "align_self": null,
      "border": null,
      "bottom": null,
      "display": null,
      "flex": null,
      "flex_flow": null,
      "grid_area": null,
      "grid_auto_columns": null,
      "grid_auto_flow": null,
      "grid_auto_rows": null,
      "grid_column": null,
      "grid_gap": null,
      "grid_row": null,
      "grid_template_areas": null,
      "grid_template_columns": null,
      "grid_template_rows": null,
      "height": null,
      "justify_content": null,
      "justify_items": null,
      "left": null,
      "margin": null,
      "max_height": null,
      "max_width": null,
      "min_height": null,
      "min_width": null,
      "object_fit": null,
      "object_position": null,
      "order": null,
      "overflow": null,
      "overflow_x": null,
      "overflow_y": null,
      "padding": null,
      "right": null,
      "top": null,
      "visibility": null,
      "width": null
     }
    },
    "6a843eb739654b5780c6a0107aa7a1c7": {
     "model_module": "@jupyter-widgets/base",
     "model_name": "LayoutModel",
     "state": {
      "_model_module": "@jupyter-widgets/base",
      "_model_module_version": "1.2.0",
      "_model_name": "LayoutModel",
      "_view_count": null,
      "_view_module": "@jupyter-widgets/base",
      "_view_module_version": "1.2.0",
      "_view_name": "LayoutView",
      "align_content": null,
      "align_items": null,
      "align_self": null,
      "border": null,
      "bottom": null,
      "display": null,
      "flex": null,
      "flex_flow": null,
      "grid_area": null,
      "grid_auto_columns": null,
      "grid_auto_flow": null,
      "grid_auto_rows": null,
      "grid_column": null,
      "grid_gap": null,
      "grid_row": null,
      "grid_template_areas": null,
      "grid_template_columns": null,
      "grid_template_rows": null,
      "height": null,
      "justify_content": null,
      "justify_items": null,
      "left": null,
      "margin": null,
      "max_height": null,
      "max_width": null,
      "min_height": null,
      "min_width": null,
      "object_fit": null,
      "object_position": null,
      "order": null,
      "overflow": null,
      "overflow_x": null,
      "overflow_y": null,
      "padding": null,
      "right": null,
      "top": null,
      "visibility": null,
      "width": null
     }
    },
    "70b535dbf46040e0b146c6435d5ddb9d": {
     "model_module": "@jupyter-widgets/controls",
     "model_name": "HTMLModel",
     "state": {
      "_dom_classes": [],
      "_model_module": "@jupyter-widgets/controls",
      "_model_module_version": "1.5.0",
      "_model_name": "HTMLModel",
      "_view_count": null,
      "_view_module": "@jupyter-widgets/controls",
      "_view_module_version": "1.5.0",
      "_view_name": "HTMLView",
      "description": "",
      "description_tooltip": null,
      "layout": "IPY_MODEL_66b3a4df18d94d8992938a167b47e6b9",
      "placeholder": "​",
      "style": "IPY_MODEL_0b93c40cf33841c0bf2577506b02acfb",
      "value": " 5010/5010 [06:55&lt;00:00, 12.07it/s]"
     }
    },
    "8012ff7c2e9d40a7a9a8fa4d52edd9d9": {
     "model_module": "@jupyter-widgets/base",
     "model_name": "LayoutModel",
     "state": {
      "_model_module": "@jupyter-widgets/base",
      "_model_module_version": "1.2.0",
      "_model_name": "LayoutModel",
      "_view_count": null,
      "_view_module": "@jupyter-widgets/base",
      "_view_module_version": "1.2.0",
      "_view_name": "LayoutView",
      "align_content": null,
      "align_items": null,
      "align_self": null,
      "border": null,
      "bottom": null,
      "display": null,
      "flex": null,
      "flex_flow": null,
      "grid_area": null,
      "grid_auto_columns": null,
      "grid_auto_flow": null,
      "grid_auto_rows": null,
      "grid_column": null,
      "grid_gap": null,
      "grid_row": null,
      "grid_template_areas": null,
      "grid_template_columns": null,
      "grid_template_rows": null,
      "height": null,
      "justify_content": null,
      "justify_items": null,
      "left": null,
      "margin": null,
      "max_height": null,
      "max_width": null,
      "min_height": null,
      "min_width": null,
      "object_fit": null,
      "object_position": null,
      "order": null,
      "overflow": null,
      "overflow_x": null,
      "overflow_y": null,
      "padding": null,
      "right": null,
      "top": null,
      "visibility": null,
      "width": null
     }
    },
    "93cb1bf6fb814b6f9a66084c1b604ff7": {
     "model_module": "@jupyter-widgets/base",
     "model_name": "LayoutModel",
     "state": {
      "_model_module": "@jupyter-widgets/base",
      "_model_module_version": "1.2.0",
      "_model_name": "LayoutModel",
      "_view_count": null,
      "_view_module": "@jupyter-widgets/base",
      "_view_module_version": "1.2.0",
      "_view_name": "LayoutView",
      "align_content": null,
      "align_items": null,
      "align_self": null,
      "border": null,
      "bottom": null,
      "display": null,
      "flex": null,
      "flex_flow": null,
      "grid_area": null,
      "grid_auto_columns": null,
      "grid_auto_flow": null,
      "grid_auto_rows": null,
      "grid_column": null,
      "grid_gap": null,
      "grid_row": null,
      "grid_template_areas": null,
      "grid_template_columns": null,
      "grid_template_rows": null,
      "height": null,
      "justify_content": null,
      "justify_items": null,
      "left": null,
      "margin": null,
      "max_height": null,
      "max_width": null,
      "min_height": null,
      "min_width": null,
      "object_fit": null,
      "object_position": null,
      "order": null,
      "overflow": null,
      "overflow_x": null,
      "overflow_y": null,
      "padding": null,
      "right": null,
      "top": null,
      "visibility": null,
      "width": null
     }
    },
    "96c81e685cde46f1856f8d269ed0bb18": {
     "model_module": "@jupyter-widgets/controls",
     "model_name": "FloatProgressModel",
     "state": {
      "_dom_classes": [],
      "_model_module": "@jupyter-widgets/controls",
      "_model_module_version": "1.5.0",
      "_model_name": "FloatProgressModel",
      "_view_count": null,
      "_view_module": "@jupyter-widgets/controls",
      "_view_module_version": "1.5.0",
      "_view_name": "ProgressView",
      "bar_style": "success",
      "description": "100%",
      "description_tooltip": null,
      "layout": "IPY_MODEL_b53d474c859e463197de33f83b55ddb2",
      "max": 5010,
      "min": 0,
      "orientation": "horizontal",
      "style": "IPY_MODEL_521a86df828247b38cb6398dc9a7a7db",
      "value": 5010
     }
    },
    "9c217d347c60472190722cb5e7cdc427": {
     "model_module": "@jupyter-widgets/controls",
     "model_name": "ProgressStyleModel",
     "state": {
      "_model_module": "@jupyter-widgets/controls",
      "_model_module_version": "1.5.0",
      "_model_name": "ProgressStyleModel",
      "_view_count": null,
      "_view_module": "@jupyter-widgets/base",
      "_view_module_version": "1.2.0",
      "_view_name": "StyleView",
      "bar_color": null,
      "description_width": "initial"
     }
    },
    "b53d474c859e463197de33f83b55ddb2": {
     "model_module": "@jupyter-widgets/base",
     "model_name": "LayoutModel",
     "state": {
      "_model_module": "@jupyter-widgets/base",
      "_model_module_version": "1.2.0",
      "_model_name": "LayoutModel",
      "_view_count": null,
      "_view_module": "@jupyter-widgets/base",
      "_view_module_version": "1.2.0",
      "_view_name": "LayoutView",
      "align_content": null,
      "align_items": null,
      "align_self": null,
      "border": null,
      "bottom": null,
      "display": null,
      "flex": null,
      "flex_flow": null,
      "grid_area": null,
      "grid_auto_columns": null,
      "grid_auto_flow": null,
      "grid_auto_rows": null,
      "grid_column": null,
      "grid_gap": null,
      "grid_row": null,
      "grid_template_areas": null,
      "grid_template_columns": null,
      "grid_template_rows": null,
      "height": null,
      "justify_content": null,
      "justify_items": null,
      "left": null,
      "margin": null,
      "max_height": null,
      "max_width": null,
      "min_height": null,
      "min_width": null,
      "object_fit": null,
      "object_position": null,
      "order": null,
      "overflow": null,
      "overflow_x": null,
      "overflow_y": null,
      "padding": null,
      "right": null,
      "top": null,
      "visibility": null,
      "width": null
     }
    },
    "bc050a6242204777aea3fe9d28e5e6df": {
     "model_module": "@jupyter-widgets/controls",
     "model_name": "HBoxModel",
     "state": {
      "_dom_classes": [],
      "_model_module": "@jupyter-widgets/controls",
      "_model_module_version": "1.5.0",
      "_model_name": "HBoxModel",
      "_view_count": null,
      "_view_module": "@jupyter-widgets/controls",
      "_view_module_version": "1.5.0",
      "_view_name": "HBoxView",
      "box_style": "",
      "children": [
       "IPY_MODEL_c61a7eeaf2534269980b9551bf111bef",
       "IPY_MODEL_efe8413ad4d2439aa2f50c4bab454169"
      ],
      "layout": "IPY_MODEL_beebab957f444480bf8157a530ed79e8"
     }
    },
    "beebab957f444480bf8157a530ed79e8": {
     "model_module": "@jupyter-widgets/base",
     "model_name": "LayoutModel",
     "state": {
      "_model_module": "@jupyter-widgets/base",
      "_model_module_version": "1.2.0",
      "_model_name": "LayoutModel",
      "_view_count": null,
      "_view_module": "@jupyter-widgets/base",
      "_view_module_version": "1.2.0",
      "_view_name": "LayoutView",
      "align_content": null,
      "align_items": null,
      "align_self": null,
      "border": null,
      "bottom": null,
      "display": null,
      "flex": null,
      "flex_flow": null,
      "grid_area": null,
      "grid_auto_columns": null,
      "grid_auto_flow": null,
      "grid_auto_rows": null,
      "grid_column": null,
      "grid_gap": null,
      "grid_row": null,
      "grid_template_areas": null,
      "grid_template_columns": null,
      "grid_template_rows": null,
      "height": null,
      "justify_content": null,
      "justify_items": null,
      "left": null,
      "margin": null,
      "max_height": null,
      "max_width": null,
      "min_height": null,
      "min_width": null,
      "object_fit": null,
      "object_position": null,
      "order": null,
      "overflow": null,
      "overflow_x": null,
      "overflow_y": null,
      "padding": null,
      "right": null,
      "top": null,
      "visibility": null,
      "width": null
     }
    },
    "c61a7eeaf2534269980b9551bf111bef": {
     "model_module": "@jupyter-widgets/controls",
     "model_name": "FloatProgressModel",
     "state": {
      "_dom_classes": [],
      "_model_module": "@jupyter-widgets/controls",
      "_model_module_version": "1.5.0",
      "_model_name": "FloatProgressModel",
      "_view_count": null,
      "_view_module": "@jupyter-widgets/controls",
      "_view_module_version": "1.5.0",
      "_view_name": "ProgressView",
      "bar_style": "success",
      "description": "100%",
      "description_tooltip": null,
      "layout": "IPY_MODEL_8012ff7c2e9d40a7a9a8fa4d52edd9d9",
      "max": 5010,
      "min": 0,
      "orientation": "horizontal",
      "style": "IPY_MODEL_9c217d347c60472190722cb5e7cdc427",
      "value": 5010
     }
    },
    "d50cb1e57af741ef8c6618822d047a3a": {
     "model_module": "@jupyter-widgets/controls",
     "model_name": "HTMLModel",
     "state": {
      "_dom_classes": [],
      "_model_module": "@jupyter-widgets/controls",
      "_model_module_version": "1.5.0",
      "_model_name": "HTMLModel",
      "_view_count": null,
      "_view_module": "@jupyter-widgets/controls",
      "_view_module_version": "1.5.0",
      "_view_name": "HTMLView",
      "description": "",
      "description_tooltip": null,
      "layout": "IPY_MODEL_f67f54d395124db3a83517cf028fc6c7",
      "placeholder": "​",
      "style": "IPY_MODEL_5121d2d97dea48f2ae101f2109dbe813",
      "value": " 5010/5010 [03:32&lt;00:00, 23.56it/s]"
     }
    },
    "efe8413ad4d2439aa2f50c4bab454169": {
     "model_module": "@jupyter-widgets/controls",
     "model_name": "HTMLModel",
     "state": {
      "_dom_classes": [],
      "_model_module": "@jupyter-widgets/controls",
      "_model_module_version": "1.5.0",
      "_model_name": "HTMLModel",
      "_view_count": null,
      "_view_module": "@jupyter-widgets/controls",
      "_view_module_version": "1.5.0",
      "_view_name": "HTMLView",
      "description": "",
      "description_tooltip": null,
      "layout": "IPY_MODEL_93cb1bf6fb814b6f9a66084c1b604ff7",
      "placeholder": "​",
      "style": "IPY_MODEL_24d69e35b22645b28ade07584e8946a5",
      "value": " 5010/5010 [15:43&lt;00:00,  5.31it/s]"
     }
    },
    "f67f54d395124db3a83517cf028fc6c7": {
     "model_module": "@jupyter-widgets/base",
     "model_name": "LayoutModel",
     "state": {
      "_model_module": "@jupyter-widgets/base",
      "_model_module_version": "1.2.0",
      "_model_name": "LayoutModel",
      "_view_count": null,
      "_view_module": "@jupyter-widgets/base",
      "_view_module_version": "1.2.0",
      "_view_name": "LayoutView",
      "align_content": null,
      "align_items": null,
      "align_self": null,
      "border": null,
      "bottom": null,
      "display": null,
      "flex": null,
      "flex_flow": null,
      "grid_area": null,
      "grid_auto_columns": null,
      "grid_auto_flow": null,
      "grid_auto_rows": null,
      "grid_column": null,
      "grid_gap": null,
      "grid_row": null,
      "grid_template_areas": null,
      "grid_template_columns": null,
      "grid_template_rows": null,
      "height": null,
      "justify_content": null,
      "justify_items": null,
      "left": null,
      "margin": null,
      "max_height": null,
      "max_width": null,
      "min_height": null,
      "min_width": null,
      "object_fit": null,
      "object_position": null,
      "order": null,
      "overflow": null,
      "overflow_x": null,
      "overflow_y": null,
      "padding": null,
      "right": null,
      "top": null,
      "visibility": null,
      "width": null
     }
    },
    "fbbdc9dad0b0420394602892a5f61da9": {
     "model_module": "@jupyter-widgets/base",
     "model_name": "LayoutModel",
     "state": {
      "_model_module": "@jupyter-widgets/base",
      "_model_module_version": "1.2.0",
      "_model_name": "LayoutModel",
      "_view_count": null,
      "_view_module": "@jupyter-widgets/base",
      "_view_module_version": "1.2.0",
      "_view_name": "LayoutView",
      "align_content": null,
      "align_items": null,
      "align_self": null,
      "border": null,
      "bottom": null,
      "display": null,
      "flex": null,
      "flex_flow": null,
      "grid_area": null,
      "grid_auto_columns": null,
      "grid_auto_flow": null,
      "grid_auto_rows": null,
      "grid_column": null,
      "grid_gap": null,
      "grid_row": null,
      "grid_template_areas": null,
      "grid_template_columns": null,
      "grid_template_rows": null,
      "height": null,
      "justify_content": null,
      "justify_items": null,
      "left": null,
      "margin": null,
      "max_height": null,
      "max_width": null,
      "min_height": null,
      "min_width": null,
      "object_fit": null,
      "object_position": null,
      "order": null,
      "overflow": null,
      "overflow_x": null,
      "overflow_y": null,
      "padding": null,
      "right": null,
      "top": null,
      "visibility": null,
      "width": null
     }
    }
   }
  }
 },
 "nbformat": 4,
 "nbformat_minor": 1
}